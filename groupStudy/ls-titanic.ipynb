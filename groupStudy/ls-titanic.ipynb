{
 "cells": [
  {
   "cell_type": "code",
   "execution_count": 1,
   "id": "233bf6a0",
   "metadata": {
    "execution": {
     "iopub.execute_input": "2023-02-24T11:48:50.419472Z",
     "iopub.status.busy": "2023-02-24T11:48:50.418617Z",
     "iopub.status.idle": "2023-02-24T11:48:50.431750Z",
     "shell.execute_reply": "2023-02-24T11:48:50.430833Z"
    },
    "papermill": {
     "duration": 0.03142,
     "end_time": "2023-02-24T11:48:50.433839",
     "exception": false,
     "start_time": "2023-02-24T11:48:50.402419",
     "status": "completed"
    },
    "tags": []
   },
   "outputs": [
    {
     "name": "stdout",
     "output_type": "stream",
     "text": [
      "/kaggle/working\n"
     ]
    }
   ],
   "source": [
    "from shutil import copyfile\n",
    "import os\n",
    "print(os.getcwd())"
   ]
  },
  {
   "cell_type": "code",
   "execution_count": 2,
   "id": "2c4ad0bb",
   "metadata": {
    "execution": {
     "iopub.execute_input": "2023-02-24T11:48:50.461098Z",
     "iopub.status.busy": "2023-02-24T11:48:50.460304Z",
     "iopub.status.idle": "2023-02-24T11:48:50.471551Z",
     "shell.execute_reply": "2023-02-24T11:48:50.470551Z"
    },
    "papermill": {
     "duration": 0.026896,
     "end_time": "2023-02-24T11:48:50.473522",
     "exception": false,
     "start_time": "2023-02-24T11:48:50.446626",
     "status": "completed"
    },
    "tags": []
   },
   "outputs": [
    {
     "data": {
      "text/plain": [
       "'../working/sklearnFunction.py'"
      ]
     },
     "execution_count": 2,
     "metadata": {},
     "output_type": "execute_result"
    }
   ],
   "source": [
    "## input 경로에 라이브러리 파일을 저장하자\n",
    "copyfile(src = \"../input/library/sklearnFunction.py\", dst = \"../working/sklearnFunction.py\")"
   ]
  },
  {
   "cell_type": "code",
   "execution_count": 3,
   "id": "b7e5cdd8",
   "metadata": {
    "execution": {
     "iopub.execute_input": "2023-02-24T11:48:50.501129Z",
     "iopub.status.busy": "2023-02-24T11:48:50.500306Z",
     "iopub.status.idle": "2023-02-24T11:48:51.360479Z",
     "shell.execute_reply": "2023-02-24T11:48:51.359490Z"
    },
    "papermill": {
     "duration": 0.876357,
     "end_time": "2023-02-24T11:48:51.362868",
     "exception": false,
     "start_time": "2023-02-24T11:48:50.486511",
     "status": "completed"
    },
    "tags": []
   },
   "outputs": [],
   "source": [
    "import pandas as pd\n",
    "import numpy as np\n",
    "import seaborn as sns\n",
    "import sklearnFunction"
   ]
  },
  {
   "cell_type": "code",
   "execution_count": 4,
   "id": "fec29376",
   "metadata": {
    "execution": {
     "iopub.execute_input": "2023-02-24T11:48:51.390915Z",
     "iopub.status.busy": "2023-02-24T11:48:51.390605Z",
     "iopub.status.idle": "2023-02-24T11:48:51.425197Z",
     "shell.execute_reply": "2023-02-24T11:48:51.422742Z"
    },
    "papermill": {
     "duration": 0.054796,
     "end_time": "2023-02-24T11:48:51.430951",
     "exception": false,
     "start_time": "2023-02-24T11:48:51.376155",
     "status": "completed"
    },
    "tags": []
   },
   "outputs": [
    {
     "name": "stdout",
     "output_type": "stream",
     "text": [
      "(891, 12)\n"
     ]
    },
    {
     "data": {
      "text/html": [
       "<div>\n",
       "<style scoped>\n",
       "    .dataframe tbody tr th:only-of-type {\n",
       "        vertical-align: middle;\n",
       "    }\n",
       "\n",
       "    .dataframe tbody tr th {\n",
       "        vertical-align: top;\n",
       "    }\n",
       "\n",
       "    .dataframe thead th {\n",
       "        text-align: right;\n",
       "    }\n",
       "</style>\n",
       "<table border=\"1\" class=\"dataframe\">\n",
       "  <thead>\n",
       "    <tr style=\"text-align: right;\">\n",
       "      <th></th>\n",
       "      <th>PassengerId</th>\n",
       "      <th>Survived</th>\n",
       "      <th>Pclass</th>\n",
       "      <th>Name</th>\n",
       "      <th>Sex</th>\n",
       "      <th>Age</th>\n",
       "      <th>SibSp</th>\n",
       "      <th>Parch</th>\n",
       "      <th>Ticket</th>\n",
       "      <th>Fare</th>\n",
       "      <th>Cabin</th>\n",
       "      <th>Embarked</th>\n",
       "    </tr>\n",
       "  </thead>\n",
       "  <tbody>\n",
       "    <tr>\n",
       "      <th>888</th>\n",
       "      <td>889</td>\n",
       "      <td>0</td>\n",
       "      <td>3</td>\n",
       "      <td>Johnston, Miss. Catherine Helen \"Carrie\"</td>\n",
       "      <td>female</td>\n",
       "      <td>NaN</td>\n",
       "      <td>1</td>\n",
       "      <td>2</td>\n",
       "      <td>W./C. 6607</td>\n",
       "      <td>23.45</td>\n",
       "      <td>NaN</td>\n",
       "      <td>S</td>\n",
       "    </tr>\n",
       "    <tr>\n",
       "      <th>889</th>\n",
       "      <td>890</td>\n",
       "      <td>1</td>\n",
       "      <td>1</td>\n",
       "      <td>Behr, Mr. Karl Howell</td>\n",
       "      <td>male</td>\n",
       "      <td>26.0</td>\n",
       "      <td>0</td>\n",
       "      <td>0</td>\n",
       "      <td>111369</td>\n",
       "      <td>30.00</td>\n",
       "      <td>C148</td>\n",
       "      <td>C</td>\n",
       "    </tr>\n",
       "    <tr>\n",
       "      <th>890</th>\n",
       "      <td>891</td>\n",
       "      <td>0</td>\n",
       "      <td>3</td>\n",
       "      <td>Dooley, Mr. Patrick</td>\n",
       "      <td>male</td>\n",
       "      <td>32.0</td>\n",
       "      <td>0</td>\n",
       "      <td>0</td>\n",
       "      <td>370376</td>\n",
       "      <td>7.75</td>\n",
       "      <td>NaN</td>\n",
       "      <td>Q</td>\n",
       "    </tr>\n",
       "  </tbody>\n",
       "</table>\n",
       "</div>"
      ],
      "text/plain": [
       "     PassengerId  Survived  Pclass                                      Name  \\\n",
       "888          889         0       3  Johnston, Miss. Catherine Helen \"Carrie\"   \n",
       "889          890         1       1                     Behr, Mr. Karl Howell   \n",
       "890          891         0       3                       Dooley, Mr. Patrick   \n",
       "\n",
       "        Sex   Age  SibSp  Parch      Ticket   Fare Cabin Embarked  \n",
       "888  female   NaN      1      2  W./C. 6607  23.45   NaN        S  \n",
       "889    male  26.0      0      0      111369  30.00  C148        C  \n",
       "890    male  32.0      0      0      370376   7.75   NaN        Q  "
      ]
     },
     "execution_count": 4,
     "metadata": {},
     "output_type": "execute_result"
    }
   ],
   "source": [
    "df_train = pd.read_csv('../input/titanic/train.csv')\n",
    "print(df_train.shape)\n",
    "df_train.tail(3)"
   ]
  },
  {
   "cell_type": "markdown",
   "id": "2b181240",
   "metadata": {
    "papermill": {
     "duration": 0.013673,
     "end_time": "2023-02-24T11:48:51.459132",
     "exception": false,
     "start_time": "2023-02-24T11:48:51.445459",
     "status": "completed"
    },
    "tags": []
   },
   "source": [
    "## 학습 데이터는 891행 12열 구조로 되어 있구나"
   ]
  },
  {
   "cell_type": "code",
   "execution_count": 5,
   "id": "0e23fe1f",
   "metadata": {
    "execution": {
     "iopub.execute_input": "2023-02-24T11:48:51.488933Z",
     "iopub.status.busy": "2023-02-24T11:48:51.487341Z",
     "iopub.status.idle": "2023-02-24T11:48:51.511666Z",
     "shell.execute_reply": "2023-02-24T11:48:51.510614Z"
    },
    "papermill": {
     "duration": 0.040657,
     "end_time": "2023-02-24T11:48:51.513661",
     "exception": false,
     "start_time": "2023-02-24T11:48:51.473004",
     "status": "completed"
    },
    "tags": []
   },
   "outputs": [
    {
     "name": "stdout",
     "output_type": "stream",
     "text": [
      "(418, 11)\n"
     ]
    },
    {
     "data": {
      "text/html": [
       "<div>\n",
       "<style scoped>\n",
       "    .dataframe tbody tr th:only-of-type {\n",
       "        vertical-align: middle;\n",
       "    }\n",
       "\n",
       "    .dataframe tbody tr th {\n",
       "        vertical-align: top;\n",
       "    }\n",
       "\n",
       "    .dataframe thead th {\n",
       "        text-align: right;\n",
       "    }\n",
       "</style>\n",
       "<table border=\"1\" class=\"dataframe\">\n",
       "  <thead>\n",
       "    <tr style=\"text-align: right;\">\n",
       "      <th></th>\n",
       "      <th>PassengerId</th>\n",
       "      <th>Pclass</th>\n",
       "      <th>Name</th>\n",
       "      <th>Sex</th>\n",
       "      <th>Age</th>\n",
       "      <th>SibSp</th>\n",
       "      <th>Parch</th>\n",
       "      <th>Ticket</th>\n",
       "      <th>Fare</th>\n",
       "      <th>Cabin</th>\n",
       "      <th>Embarked</th>\n",
       "    </tr>\n",
       "  </thead>\n",
       "  <tbody>\n",
       "    <tr>\n",
       "      <th>0</th>\n",
       "      <td>892</td>\n",
       "      <td>3</td>\n",
       "      <td>Kelly, Mr. James</td>\n",
       "      <td>male</td>\n",
       "      <td>34.5</td>\n",
       "      <td>0</td>\n",
       "      <td>0</td>\n",
       "      <td>330911</td>\n",
       "      <td>7.8292</td>\n",
       "      <td>NaN</td>\n",
       "      <td>Q</td>\n",
       "    </tr>\n",
       "    <tr>\n",
       "      <th>1</th>\n",
       "      <td>893</td>\n",
       "      <td>3</td>\n",
       "      <td>Wilkes, Mrs. James (Ellen Needs)</td>\n",
       "      <td>female</td>\n",
       "      <td>47.0</td>\n",
       "      <td>1</td>\n",
       "      <td>0</td>\n",
       "      <td>363272</td>\n",
       "      <td>7.0000</td>\n",
       "      <td>NaN</td>\n",
       "      <td>S</td>\n",
       "    </tr>\n",
       "    <tr>\n",
       "      <th>2</th>\n",
       "      <td>894</td>\n",
       "      <td>2</td>\n",
       "      <td>Myles, Mr. Thomas Francis</td>\n",
       "      <td>male</td>\n",
       "      <td>62.0</td>\n",
       "      <td>0</td>\n",
       "      <td>0</td>\n",
       "      <td>240276</td>\n",
       "      <td>9.6875</td>\n",
       "      <td>NaN</td>\n",
       "      <td>Q</td>\n",
       "    </tr>\n",
       "  </tbody>\n",
       "</table>\n",
       "</div>"
      ],
      "text/plain": [
       "   PassengerId  Pclass                              Name     Sex   Age  SibSp  \\\n",
       "0          892       3                  Kelly, Mr. James    male  34.5      0   \n",
       "1          893       3  Wilkes, Mrs. James (Ellen Needs)  female  47.0      1   \n",
       "2          894       2         Myles, Mr. Thomas Francis    male  62.0      0   \n",
       "\n",
       "   Parch  Ticket    Fare Cabin Embarked  \n",
       "0      0  330911  7.8292   NaN        Q  \n",
       "1      0  363272  7.0000   NaN        S  \n",
       "2      0  240276  9.6875   NaN        Q  "
      ]
     },
     "execution_count": 5,
     "metadata": {},
     "output_type": "execute_result"
    }
   ],
   "source": [
    "df_test = pd.read_csv('../input/titanic/test.csv')\n",
    "print(df_test.shape)\n",
    "df_test.head(3)"
   ]
  },
  {
   "cell_type": "markdown",
   "id": "a20c6572",
   "metadata": {
    "papermill": {
     "duration": 0.01271,
     "end_time": "2023-02-24T11:48:51.539925",
     "exception": false,
     "start_time": "2023-02-24T11:48:51.527215",
     "status": "completed"
    },
    "tags": []
   },
   "source": [
    "## 테스트 데이터는 418행 11열 구조로 되어 있구나"
   ]
  },
  {
   "cell_type": "markdown",
   "id": "e9a52371",
   "metadata": {
    "papermill": {
     "duration": 0.012861,
     "end_time": "2023-02-24T11:48:51.565746",
     "exception": false,
     "start_time": "2023-02-24T11:48:51.552885",
     "status": "completed"
    },
    "tags": []
   },
   "source": [
    "### PassengerId가 id 이구나"
   ]
  },
  {
   "cell_type": "code",
   "execution_count": 6,
   "id": "63ae0a17",
   "metadata": {
    "execution": {
     "iopub.execute_input": "2023-02-24T11:48:51.592978Z",
     "iopub.status.busy": "2023-02-24T11:48:51.592662Z",
     "iopub.status.idle": "2023-02-24T11:48:51.604406Z",
     "shell.execute_reply": "2023-02-24T11:48:51.603423Z"
    },
    "papermill": {
     "duration": 0.027896,
     "end_time": "2023-02-24T11:48:51.606615",
     "exception": false,
     "start_time": "2023-02-24T11:48:51.578719",
     "status": "completed"
    },
    "tags": []
   },
   "outputs": [],
   "source": [
    "df = pd.concat([df_train, df_test])"
   ]
  },
  {
   "cell_type": "code",
   "execution_count": 7,
   "id": "db7dbbd9",
   "metadata": {
    "execution": {
     "iopub.execute_input": "2023-02-24T11:48:51.634684Z",
     "iopub.status.busy": "2023-02-24T11:48:51.633913Z",
     "iopub.status.idle": "2023-02-24T11:48:51.641399Z",
     "shell.execute_reply": "2023-02-24T11:48:51.640540Z"
    },
    "papermill": {
     "duration": 0.023348,
     "end_time": "2023-02-24T11:48:51.643420",
     "exception": false,
     "start_time": "2023-02-24T11:48:51.620072",
     "status": "completed"
    },
    "tags": []
   },
   "outputs": [],
   "source": [
    "df.set_index('PassengerId', inplace=True)"
   ]
  },
  {
   "cell_type": "code",
   "execution_count": 8,
   "id": "4a724f79",
   "metadata": {
    "execution": {
     "iopub.execute_input": "2023-02-24T11:48:51.671659Z",
     "iopub.status.busy": "2023-02-24T11:48:51.670213Z",
     "iopub.status.idle": "2023-02-24T11:48:51.675384Z",
     "shell.execute_reply": "2023-02-24T11:48:51.674531Z"
    },
    "papermill": {
     "duration": 0.021013,
     "end_time": "2023-02-24T11:48:51.677326",
     "exception": false,
     "start_time": "2023-02-24T11:48:51.656313",
     "status": "completed"
    },
    "tags": []
   },
   "outputs": [],
   "source": [
    "df.index = df.index-1"
   ]
  },
  {
   "cell_type": "code",
   "execution_count": 9,
   "id": "26797ad0",
   "metadata": {
    "execution": {
     "iopub.execute_input": "2023-02-24T11:48:51.704361Z",
     "iopub.status.busy": "2023-02-24T11:48:51.704089Z",
     "iopub.status.idle": "2023-02-24T11:48:51.720846Z",
     "shell.execute_reply": "2023-02-24T11:48:51.719955Z"
    },
    "papermill": {
     "duration": 0.032912,
     "end_time": "2023-02-24T11:48:51.723162",
     "exception": false,
     "start_time": "2023-02-24T11:48:51.690250",
     "status": "completed"
    },
    "tags": []
   },
   "outputs": [
    {
     "name": "stdout",
     "output_type": "stream",
     "text": [
      "<class 'pandas.core.frame.DataFrame'>\n",
      "Int64Index: 1309 entries, 0 to 1308\n",
      "Data columns (total 11 columns):\n",
      " #   Column    Non-Null Count  Dtype  \n",
      "---  ------    --------------  -----  \n",
      " 0   Survived  891 non-null    float64\n",
      " 1   Pclass    1309 non-null   int64  \n",
      " 2   Name      1309 non-null   object \n",
      " 3   Sex       1309 non-null   object \n",
      " 4   Age       1046 non-null   float64\n",
      " 5   SibSp     1309 non-null   int64  \n",
      " 6   Parch     1309 non-null   int64  \n",
      " 7   Ticket    1309 non-null   object \n",
      " 8   Fare      1308 non-null   float64\n",
      " 9   Cabin     295 non-null    object \n",
      " 10  Embarked  1307 non-null   object \n",
      "dtypes: float64(3), int64(3), object(5)\n",
      "memory usage: 122.7+ KB\n"
     ]
    }
   ],
   "source": [
    "df.info()"
   ]
  },
  {
   "cell_type": "markdown",
   "id": "93459d0f",
   "metadata": {
    "papermill": {
     "duration": 0.01282,
     "end_time": "2023-02-24T11:48:51.748991",
     "exception": false,
     "start_time": "2023-02-24T11:48:51.736171",
     "status": "completed"
    },
    "tags": []
   },
   "source": [
    "### Age, Fare, Cabin, Embarked에 결측치가 있다\n",
    "### Age, Fare, Embarked는 평균으로 채우고 Cabin은 학습모델을 만들어 해결해 보자"
   ]
  },
  {
   "cell_type": "code",
   "execution_count": 10,
   "id": "9f3083a2",
   "metadata": {
    "execution": {
     "iopub.execute_input": "2023-02-24T11:48:51.776270Z",
     "iopub.status.busy": "2023-02-24T11:48:51.775977Z",
     "iopub.status.idle": "2023-02-24T11:48:51.783399Z",
     "shell.execute_reply": "2023-02-24T11:48:51.782407Z"
    },
    "papermill": {
     "duration": 0.023428,
     "end_time": "2023-02-24T11:48:51.785365",
     "exception": false,
     "start_time": "2023-02-24T11:48:51.761937",
     "status": "completed"
    },
    "tags": []
   },
   "outputs": [
    {
     "data": {
      "text/plain": [
       "S    914\n",
       "C    270\n",
       "Q    123\n",
       "Name: Embarked, dtype: int64"
      ]
     },
     "execution_count": 10,
     "metadata": {},
     "output_type": "execute_result"
    }
   ],
   "source": [
    "df['Embarked'].value_counts()"
   ]
  },
  {
   "cell_type": "code",
   "execution_count": 11,
   "id": "8d60a6a4",
   "metadata": {
    "execution": {
     "iopub.execute_input": "2023-02-24T11:48:51.813480Z",
     "iopub.status.busy": "2023-02-24T11:48:51.812731Z",
     "iopub.status.idle": "2023-02-24T11:48:51.819269Z",
     "shell.execute_reply": "2023-02-24T11:48:51.818435Z"
    },
    "papermill": {
     "duration": 0.022696,
     "end_time": "2023-02-24T11:48:51.821300",
     "exception": false,
     "start_time": "2023-02-24T11:48:51.798604",
     "status": "completed"
    },
    "tags": []
   },
   "outputs": [],
   "source": [
    "df['Age'].fillna(df['Age'].mean(), inplace=True)\n",
    "df['Fare'].fillna(df['Fare'].mean(), inplace=True)\n",
    "df['Embarked'].fillna('S', inplace=True)"
   ]
  },
  {
   "cell_type": "code",
   "execution_count": 12,
   "id": "3593fc14",
   "metadata": {
    "execution": {
     "iopub.execute_input": "2023-02-24T11:48:51.849280Z",
     "iopub.status.busy": "2023-02-24T11:48:51.848593Z",
     "iopub.status.idle": "2023-02-24T11:48:51.863713Z",
     "shell.execute_reply": "2023-02-24T11:48:51.862756Z"
    },
    "papermill": {
     "duration": 0.031078,
     "end_time": "2023-02-24T11:48:51.865809",
     "exception": false,
     "start_time": "2023-02-24T11:48:51.834731",
     "status": "completed"
    },
    "tags": []
   },
   "outputs": [
    {
     "name": "stdout",
     "output_type": "stream",
     "text": [
      "<class 'pandas.core.frame.DataFrame'>\n",
      "Int64Index: 1309 entries, 0 to 1308\n",
      "Data columns (total 11 columns):\n",
      " #   Column    Non-Null Count  Dtype  \n",
      "---  ------    --------------  -----  \n",
      " 0   Survived  891 non-null    float64\n",
      " 1   Pclass    1309 non-null   int64  \n",
      " 2   Name      1309 non-null   object \n",
      " 3   Sex       1309 non-null   object \n",
      " 4   Age       1309 non-null   float64\n",
      " 5   SibSp     1309 non-null   int64  \n",
      " 6   Parch     1309 non-null   int64  \n",
      " 7   Ticket    1309 non-null   object \n",
      " 8   Fare      1309 non-null   float64\n",
      " 9   Cabin     295 non-null    object \n",
      " 10  Embarked  1309 non-null   object \n",
      "dtypes: float64(3), int64(3), object(5)\n",
      "memory usage: 122.7+ KB\n"
     ]
    }
   ],
   "source": [
    "df.info()"
   ]
  },
  {
   "cell_type": "markdown",
   "id": "e6d61d0f",
   "metadata": {
    "papermill": {
     "duration": 0.012996,
     "end_time": "2023-02-24T11:48:51.892098",
     "exception": false,
     "start_time": "2023-02-24T11:48:51.879102",
     "status": "completed"
    },
    "tags": []
   },
   "source": [
    "### Name은 학습에 불필요 할 것 같다"
   ]
  },
  {
   "cell_type": "code",
   "execution_count": 13,
   "id": "7c2f0e85",
   "metadata": {
    "execution": {
     "iopub.execute_input": "2023-02-24T11:48:51.919943Z",
     "iopub.status.busy": "2023-02-24T11:48:51.919336Z",
     "iopub.status.idle": "2023-02-24T11:48:51.927542Z",
     "shell.execute_reply": "2023-02-24T11:48:51.926541Z"
    },
    "papermill": {
     "duration": 0.024034,
     "end_time": "2023-02-24T11:48:51.929446",
     "exception": false,
     "start_time": "2023-02-24T11:48:51.905412",
     "status": "completed"
    },
    "tags": []
   },
   "outputs": [
    {
     "data": {
      "text/plain": [
       "Index(['Survived', 'Pclass', 'Sex', 'Age', 'SibSp', 'Parch', 'Ticket', 'Fare',\n",
       "       'Cabin', 'Embarked'],\n",
       "      dtype='object')"
      ]
     },
     "execution_count": 13,
     "metadata": {},
     "output_type": "execute_result"
    }
   ],
   "source": [
    "df = df.drop(['Name'], axis=1)\n",
    "df.columns"
   ]
  },
  {
   "cell_type": "markdown",
   "id": "c1c1cc7e",
   "metadata": {
    "papermill": {
     "duration": 0.013115,
     "end_time": "2023-02-24T11:48:51.955809",
     "exception": false,
     "start_time": "2023-02-24T11:48:51.942694",
     "status": "completed"
    },
    "tags": []
   },
   "source": [
    "### Sex는 우선 숫자로 바꾸자"
   ]
  },
  {
   "cell_type": "code",
   "execution_count": 14,
   "id": "8e4eea32",
   "metadata": {
    "execution": {
     "iopub.execute_input": "2023-02-24T11:48:51.984181Z",
     "iopub.status.busy": "2023-02-24T11:48:51.983373Z",
     "iopub.status.idle": "2023-02-24T11:48:51.992874Z",
     "shell.execute_reply": "2023-02-24T11:48:51.991869Z"
    },
    "papermill": {
     "duration": 0.025827,
     "end_time": "2023-02-24T11:48:51.994991",
     "exception": false,
     "start_time": "2023-02-24T11:48:51.969164",
     "status": "completed"
    },
    "tags": []
   },
   "outputs": [
    {
     "data": {
      "text/plain": [
       "Index(['Survived', 'Pclass', 'Age', 'SibSp', 'Parch', 'Ticket', 'Fare',\n",
       "       'Cabin', 'Embarked', 'gender'],\n",
       "      dtype='object')"
      ]
     },
     "execution_count": 14,
     "metadata": {},
     "output_type": "execute_result"
    }
   ],
   "source": [
    "df['gender'] = df['Sex'].apply(lambda x : 0 if x=='male' else 1)\n",
    "df = df.drop(['Sex'], axis=1)\n",
    "df.columns"
   ]
  },
  {
   "cell_type": "code",
   "execution_count": 15,
   "id": "ac4620e7",
   "metadata": {
    "execution": {
     "iopub.execute_input": "2023-02-24T11:48:52.023437Z",
     "iopub.status.busy": "2023-02-24T11:48:52.023155Z",
     "iopub.status.idle": "2023-02-24T11:48:52.032122Z",
     "shell.execute_reply": "2023-02-24T11:48:52.031115Z"
    },
    "papermill": {
     "duration": 0.025248,
     "end_time": "2023-02-24T11:48:52.034081",
     "exception": false,
     "start_time": "2023-02-24T11:48:52.008833",
     "status": "completed"
    },
    "tags": []
   },
   "outputs": [
    {
     "data": {
      "text/plain": [
       "CA. 2343        11\n",
       "CA 2144          8\n",
       "1601             8\n",
       "PC 17608         7\n",
       "S.O.C. 14879     7\n",
       "                ..\n",
       "113792           1\n",
       "36209            1\n",
       "323592           1\n",
       "315089           1\n",
       "359309           1\n",
       "Name: Ticket, Length: 929, dtype: int64"
      ]
     },
     "execution_count": 15,
     "metadata": {},
     "output_type": "execute_result"
    }
   ],
   "source": [
    "df.Ticket.value_counts()"
   ]
  },
  {
   "cell_type": "markdown",
   "id": "81bc1957",
   "metadata": {
    "papermill": {
     "duration": 0.013387,
     "end_time": "2023-02-24T11:48:52.060964",
     "exception": false,
     "start_time": "2023-02-24T11:48:52.047577",
     "status": "completed"
    },
    "tags": []
   },
   "source": [
    "### Ticket은 도저히 사용 못하겠다"
   ]
  },
  {
   "cell_type": "code",
   "execution_count": 16,
   "id": "6f4546a9",
   "metadata": {
    "execution": {
     "iopub.execute_input": "2023-02-24T11:48:52.089736Z",
     "iopub.status.busy": "2023-02-24T11:48:52.089029Z",
     "iopub.status.idle": "2023-02-24T11:48:52.095919Z",
     "shell.execute_reply": "2023-02-24T11:48:52.094971Z"
    },
    "papermill": {
     "duration": 0.023179,
     "end_time": "2023-02-24T11:48:52.097927",
     "exception": false,
     "start_time": "2023-02-24T11:48:52.074748",
     "status": "completed"
    },
    "tags": []
   },
   "outputs": [
    {
     "data": {
      "text/plain": [
       "Index(['Survived', 'Pclass', 'Age', 'SibSp', 'Parch', 'Fare', 'Cabin',\n",
       "       'Embarked', 'gender'],\n",
       "      dtype='object')"
      ]
     },
     "execution_count": 16,
     "metadata": {},
     "output_type": "execute_result"
    }
   ],
   "source": [
    "df = df.drop(['Ticket'], axis=1)\n",
    "df.columns"
   ]
  },
  {
   "cell_type": "code",
   "execution_count": 17,
   "id": "cdb8cad0",
   "metadata": {
    "execution": {
     "iopub.execute_input": "2023-02-24T11:48:52.126605Z",
     "iopub.status.busy": "2023-02-24T11:48:52.125821Z",
     "iopub.status.idle": "2023-02-24T11:48:52.132591Z",
     "shell.execute_reply": "2023-02-24T11:48:52.131652Z"
    },
    "papermill": {
     "duration": 0.022958,
     "end_time": "2023-02-24T11:48:52.134493",
     "exception": false,
     "start_time": "2023-02-24T11:48:52.111535",
     "status": "completed"
    },
    "tags": []
   },
   "outputs": [
    {
     "data": {
      "text/plain": [
       "array([nan, 'C85', 'C123', 'E46', 'G6', 'C103', 'D56', 'A6',\n",
       "       'C23 C25 C27', 'B78', 'D33', 'B30', 'C52', 'B28', 'C83', 'F33',\n",
       "       'F G73', 'E31', 'A5', 'D10 D12', 'D26', 'C110', 'B58 B60', 'E101',\n",
       "       'F E69', 'D47', 'B86', 'F2', 'C2', 'E33', 'B19', 'A7', 'C49', 'F4',\n",
       "       'A32', 'B4', 'B80', 'A31', 'D36', 'D15', 'C93', 'C78', 'D35',\n",
       "       'C87', 'B77', 'E67', 'B94', 'C125', 'C99', 'C118', 'D7', 'A19',\n",
       "       'B49', 'D', 'C22 C26', 'C106', 'C65', 'E36', 'C54',\n",
       "       'B57 B59 B63 B66', 'C7', 'E34', 'C32', 'B18', 'C124', 'C91', 'E40',\n",
       "       'T', 'C128', 'D37', 'B35', 'E50', 'C82', 'B96 B98', 'E10', 'E44',\n",
       "       'A34', 'C104', 'C111', 'C92', 'E38', 'D21', 'E12', 'E63', 'A14',\n",
       "       'B37', 'C30', 'D20', 'B79', 'E25', 'D46', 'B73', 'C95', 'B38',\n",
       "       'B39', 'B22', 'C86', 'C70', 'A16', 'C101', 'C68', 'A10', 'E68',\n",
       "       'B41', 'A20', 'D19', 'D50', 'D9', 'A23', 'B50', 'A26', 'D48',\n",
       "       'E58', 'C126', 'B71', 'B51 B53 B55', 'D49', 'B5', 'B20', 'F G63',\n",
       "       'C62 C64', 'E24', 'C90', 'C45', 'E8', 'B101', 'D45', 'C46', 'D30',\n",
       "       'E121', 'D11', 'E77', 'F38', 'B3', 'D6', 'B82 B84', 'D17', 'A36',\n",
       "       'B102', 'B69', 'E49', 'C47', 'D28', 'E17', 'A24', 'C50', 'B42',\n",
       "       'C148', 'B45', 'B36', 'A21', 'D34', 'A9', 'C31', 'B61', 'C53',\n",
       "       'D43', 'C130', 'C132', 'C55 C57', 'C116', 'F', 'A29', 'C6', 'C28',\n",
       "       'C51', 'C97', 'D22', 'B10', 'E45', 'E52', 'A11', 'B11', 'C80',\n",
       "       'C89', 'F E46', 'B26', 'F E57', 'A18', 'E60', 'E39 E41',\n",
       "       'B52 B54 B56', 'C39', 'B24', 'D40', 'D38', 'C105'], dtype=object)"
      ]
     },
     "execution_count": 17,
     "metadata": {},
     "output_type": "execute_result"
    }
   ],
   "source": [
    "df.Cabin.unique()"
   ]
  },
  {
   "cell_type": "markdown",
   "id": "a91b21ec",
   "metadata": {
    "papermill": {
     "duration": 0.013501,
     "end_time": "2023-02-24T11:48:52.161642",
     "exception": false,
     "start_time": "2023-02-24T11:48:52.148141",
     "status": "completed"
    },
    "tags": []
   },
   "source": [
    "### Cabin은 첫번째 알파벳에 의미가 있는 것 같다"
   ]
  },
  {
   "cell_type": "code",
   "execution_count": 18,
   "id": "308712cc",
   "metadata": {
    "execution": {
     "iopub.execute_input": "2023-02-24T11:48:52.190809Z",
     "iopub.status.busy": "2023-02-24T11:48:52.189971Z",
     "iopub.status.idle": "2023-02-24T11:48:52.198813Z",
     "shell.execute_reply": "2023-02-24T11:48:52.197843Z"
    },
    "papermill": {
     "duration": 0.025426,
     "end_time": "2023-02-24T11:48:52.200812",
     "exception": false,
     "start_time": "2023-02-24T11:48:52.175386",
     "status": "completed"
    },
    "tags": []
   },
   "outputs": [
    {
     "data": {
      "text/plain": [
       "n    1014\n",
       "C      94\n",
       "B      65\n",
       "D      46\n",
       "E      41\n",
       "A      22\n",
       "F      21\n",
       "G       5\n",
       "T       1\n",
       "Name: Cabin, dtype: int64"
      ]
     },
     "execution_count": 18,
     "metadata": {},
     "output_type": "execute_result"
    }
   ],
   "source": [
    "df['Cabin'] = df['Cabin'].apply(lambda x:str(x)[0:1])\n",
    "df['Cabin'].value_counts()"
   ]
  },
  {
   "cell_type": "markdown",
   "id": "be95bbb5",
   "metadata": {
    "papermill": {
     "duration": 0.013597,
     "end_time": "2023-02-24T11:48:52.228116",
     "exception": false,
     "start_time": "2023-02-24T11:48:52.214519",
     "status": "completed"
    },
    "tags": []
   },
   "source": [
    "### 에고 결측치가 n이 되어 버렸네..."
   ]
  },
  {
   "cell_type": "markdown",
   "id": "00b0c0fd",
   "metadata": {
    "papermill": {
     "duration": 0.013682,
     "end_time": "2023-02-24T11:48:52.255568",
     "exception": false,
     "start_time": "2023-02-24T11:48:52.241886",
     "status": "completed"
    },
    "tags": []
   },
   "source": [
    "### Cabin은 Fare, Pclass, Sex, SibSp+Parch와 연관이 있을 것 같다"
   ]
  },
  {
   "cell_type": "code",
   "execution_count": 19,
   "id": "71bef8ab",
   "metadata": {
    "execution": {
     "iopub.execute_input": "2023-02-24T11:48:52.284369Z",
     "iopub.status.busy": "2023-02-24T11:48:52.284042Z",
     "iopub.status.idle": "2023-02-24T11:48:52.607048Z",
     "shell.execute_reply": "2023-02-24T11:48:52.606138Z"
    },
    "papermill": {
     "duration": 0.339806,
     "end_time": "2023-02-24T11:48:52.609188",
     "exception": false,
     "start_time": "2023-02-24T11:48:52.269382",
     "status": "completed"
    },
    "tags": []
   },
   "outputs": [
    {
     "data": {
      "text/plain": [
       "<AxesSubplot:xlabel='Cabin', ylabel='Fare'>"
      ]
     },
     "execution_count": 19,
     "metadata": {},
     "output_type": "execute_result"
    },
    {
     "data": {
      "image/png": "[encoded data removed]",
      "text/plain": [
       "<Figure size 640x480 with 1 Axes>"
      ]
     },
     "metadata": {},
     "output_type": "display_data"
    }
   ],
   "source": [
    "sns.boxplot(data=df, x='Cabin', y='Fare')"
   ]
  },
  {
   "cell_type": "code",
   "execution_count": 20,
   "id": "8912b4f2",
   "metadata": {
    "execution": {
     "iopub.execute_input": "2023-02-24T11:48:52.639625Z",
     "iopub.status.busy": "2023-02-24T11:48:52.639098Z",
     "iopub.status.idle": "2023-02-24T11:48:52.646224Z",
     "shell.execute_reply": "2023-02-24T11:48:52.645361Z"
    },
    "papermill": {
     "duration": 0.024279,
     "end_time": "2023-02-24T11:48:52.648052",
     "exception": false,
     "start_time": "2023-02-24T11:48:52.623773",
     "status": "completed"
    },
    "tags": []
   },
   "outputs": [
    {
     "data": {
      "text/plain": [
       "3    709\n",
       "1    323\n",
       "2    277\n",
       "Name: Pclass, dtype: int64"
      ]
     },
     "execution_count": 20,
     "metadata": {},
     "output_type": "execute_result"
    }
   ],
   "source": [
    "df.Pclass.value_counts()"
   ]
  },
  {
   "cell_type": "code",
   "execution_count": 21,
   "id": "9e124171",
   "metadata": {
    "execution": {
     "iopub.execute_input": "2023-02-24T11:48:52.678468Z",
     "iopub.status.busy": "2023-02-24T11:48:52.677608Z",
     "iopub.status.idle": "2023-02-24T11:48:52.970301Z",
     "shell.execute_reply": "2023-02-24T11:48:52.969273Z"
    },
    "papermill": {
     "duration": 0.310115,
     "end_time": "2023-02-24T11:48:52.972391",
     "exception": false,
     "start_time": "2023-02-24T11:48:52.662276",
     "status": "completed"
    },
    "tags": []
   },
   "outputs": [
    {
     "data": {
      "text/plain": [
       "<AxesSubplot:xlabel='Cabin', ylabel='Pclass'>"
      ]
     },
     "execution_count": 21,
     "metadata": {},
     "output_type": "execute_result"
    },
    {
     "data": {
      "image/png": "[encoded data removed]",
      "text/plain": [
       "<Figure size 640x480 with 1 Axes>"
      ]
     },
     "metadata": {},
     "output_type": "display_data"
    }
   ],
   "source": [
    "sns.boxplot(data=df, x='Cabin', y='Pclass')"
   ]
  },
  {
   "cell_type": "code",
   "execution_count": 22,
   "id": "8a70460b",
   "metadata": {
    "execution": {
     "iopub.execute_input": "2023-02-24T11:48:53.003709Z",
     "iopub.status.busy": "2023-02-24T11:48:53.002925Z",
     "iopub.status.idle": "2023-02-24T11:48:53.282096Z",
     "shell.execute_reply": "2023-02-24T11:48:53.281157Z"
    },
    "papermill": {
     "duration": 0.29695,
     "end_time": "2023-02-24T11:48:53.284325",
     "exception": false,
     "start_time": "2023-02-24T11:48:52.987375",
     "status": "completed"
    },
    "tags": []
   },
   "outputs": [
    {
     "data": {
      "text/plain": [
       "<AxesSubplot:xlabel='Cabin', ylabel='count'>"
      ]
     },
     "execution_count": 22,
     "metadata": {},
     "output_type": "execute_result"
    },
    {
     "data": {
      "image/png": "[encoded data removed]",
      "text/plain": [
       "<Figure size 640x480 with 1 Axes>"
      ]
     },
     "metadata": {},
     "output_type": "display_data"
    }
   ],
   "source": [
    "sns.countplot(data=df, x='Cabin', hue='gender')"
   ]
  },
  {
   "cell_type": "code",
   "execution_count": 23,
   "id": "4a921d09",
   "metadata": {
    "execution": {
     "iopub.execute_input": "2023-02-24T11:48:53.344083Z",
     "iopub.status.busy": "2023-02-24T11:48:53.343681Z",
     "iopub.status.idle": "2023-02-24T11:48:53.350477Z",
     "shell.execute_reply": "2023-02-24T11:48:53.349552Z"
    },
    "papermill": {
     "duration": 0.036423,
     "end_time": "2023-02-24T11:48:53.355413",
     "exception": false,
     "start_time": "2023-02-24T11:48:53.318990",
     "status": "completed"
    },
    "tags": []
   },
   "outputs": [],
   "source": [
    "df['Family'] = df['SibSp'] + df['Parch']"
   ]
  },
  {
   "cell_type": "code",
   "execution_count": 24,
   "id": "2e5aede5",
   "metadata": {
    "execution": {
     "iopub.execute_input": "2023-02-24T11:48:53.390674Z",
     "iopub.status.busy": "2023-02-24T11:48:53.390018Z",
     "iopub.status.idle": "2023-02-24T11:48:53.672909Z",
     "shell.execute_reply": "2023-02-24T11:48:53.671963Z"
    },
    "papermill": {
     "duration": 0.300963,
     "end_time": "2023-02-24T11:48:53.675061",
     "exception": false,
     "start_time": "2023-02-24T11:48:53.374098",
     "status": "completed"
    },
    "tags": []
   },
   "outputs": [
    {
     "data": {
      "text/plain": [
       "<AxesSubplot:xlabel='Cabin', ylabel='Family'>"
      ]
     },
     "execution_count": 24,
     "metadata": {},
     "output_type": "execute_result"
    },
    {
     "data": {
      "image/png": "[encoded data removed]",
      "text/plain": [
       "<Figure size 640x480 with 1 Axes>"
      ]
     },
     "metadata": {},
     "output_type": "display_data"
    }
   ],
   "source": [
    "sns.boxplot(data=df, x='Cabin', y='Family')"
   ]
  },
  {
   "cell_type": "code",
   "execution_count": 25,
   "id": "3e431d84",
   "metadata": {
    "execution": {
     "iopub.execute_input": "2023-02-24T11:48:53.708677Z",
     "iopub.status.busy": "2023-02-24T11:48:53.707872Z",
     "iopub.status.idle": "2023-02-24T11:48:53.714050Z",
     "shell.execute_reply": "2023-02-24T11:48:53.713164Z"
    },
    "papermill": {
     "duration": 0.024502,
     "end_time": "2023-02-24T11:48:53.716003",
     "exception": false,
     "start_time": "2023-02-24T11:48:53.691501",
     "status": "completed"
    },
    "tags": []
   },
   "outputs": [],
   "source": [
    "df_cabin = df.copy()\n",
    "df_cabin = df_cabin[['Fare', 'Pclass', 'gender', 'Family', 'Cabin']]"
   ]
  },
  {
   "cell_type": "code",
   "execution_count": 26,
   "id": "b24d27c0",
   "metadata": {
    "execution": {
     "iopub.execute_input": "2023-02-24T11:48:53.760944Z",
     "iopub.status.busy": "2023-02-24T11:48:53.760640Z",
     "iopub.status.idle": "2023-02-24T11:48:53.770780Z",
     "shell.execute_reply": "2023-02-24T11:48:53.769744Z"
    },
    "papermill": {
     "duration": 0.042311,
     "end_time": "2023-02-24T11:48:53.773601",
     "exception": false,
     "start_time": "2023-02-24T11:48:53.731290",
     "status": "completed"
    },
    "tags": []
   },
   "outputs": [
    {
     "data": {
      "text/plain": [
       "(295, 5)"
      ]
     },
     "execution_count": 26,
     "metadata": {},
     "output_type": "execute_result"
    }
   ],
   "source": [
    "df_cabin = df_cabin[df_cabin['Cabin'] != 'n']\n",
    "df_cabin.shape"
   ]
  },
  {
   "cell_type": "code",
   "execution_count": 27,
   "id": "155e2fc4",
   "metadata": {
    "execution": {
     "iopub.execute_input": "2023-02-24T11:48:53.823278Z",
     "iopub.status.busy": "2023-02-24T11:48:53.822785Z",
     "iopub.status.idle": "2023-02-24T11:48:53.840410Z",
     "shell.execute_reply": "2023-02-24T11:48:53.838828Z"
    },
    "papermill": {
     "duration": 0.044512,
     "end_time": "2023-02-24T11:48:53.842651",
     "exception": false,
     "start_time": "2023-02-24T11:48:53.798139",
     "status": "completed"
    },
    "tags": []
   },
   "outputs": [
    {
     "name": "stdout",
     "output_type": "stream",
     "text": [
      "<class 'pandas.core.frame.DataFrame'>\n",
      "Int64Index: 295 entries, 1 to 1305\n",
      "Data columns (total 5 columns):\n",
      " #   Column  Non-Null Count  Dtype  \n",
      "---  ------  --------------  -----  \n",
      " 0   Fare    295 non-null    float64\n",
      " 1   Pclass  295 non-null    int64  \n",
      " 2   gender  295 non-null    int64  \n",
      " 3   Family  295 non-null    int64  \n",
      " 4   Cabin   295 non-null    object \n",
      "dtypes: float64(1), int64(3), object(1)\n",
      "memory usage: 13.8+ KB\n"
     ]
    }
   ],
   "source": [
    "df_cabin.info()"
   ]
  },
  {
   "cell_type": "markdown",
   "id": "b62c9a6d",
   "metadata": {
    "papermill": {
     "duration": 0.015463,
     "end_time": "2023-02-24T11:48:53.873918",
     "exception": false,
     "start_time": "2023-02-24T11:48:53.858455",
     "status": "completed"
    },
    "tags": []
   },
   "source": [
    "### 잘모르겠다.. 그냥 학습시켜보자.."
   ]
  },
  {
   "cell_type": "code",
   "execution_count": 28,
   "id": "60fd43c0",
   "metadata": {
    "execution": {
     "iopub.execute_input": "2023-02-24T11:48:53.906697Z",
     "iopub.status.busy": "2023-02-24T11:48:53.905952Z",
     "iopub.status.idle": "2023-02-24T11:48:53.994532Z",
     "shell.execute_reply": "2023-02-24T11:48:53.993631Z"
    },
    "papermill": {
     "duration": 0.107475,
     "end_time": "2023-02-24T11:48:53.996805",
     "exception": false,
     "start_time": "2023-02-24T11:48:53.889330",
     "status": "completed"
    },
    "tags": []
   },
   "outputs": [],
   "source": [
    "from sklearn.ensemble import RandomForestClassifier\n",
    "from sklearn.model_selection import train_test_split\n",
    "from sklearn.metrics import accuracy_score"
   ]
  },
  {
   "cell_type": "code",
   "execution_count": 29,
   "id": "f58ed416",
   "metadata": {
    "execution": {
     "iopub.execute_input": "2023-02-24T11:48:54.029749Z",
     "iopub.status.busy": "2023-02-24T11:48:54.029472Z",
     "iopub.status.idle": "2023-02-24T11:48:54.180125Z",
     "shell.execute_reply": "2023-02-24T11:48:54.179044Z"
    },
    "papermill": {
     "duration": 0.169448,
     "end_time": "2023-02-24T11:48:54.182456",
     "exception": false,
     "start_time": "2023-02-24T11:48:54.013008",
     "status": "completed"
    },
    "tags": []
   },
   "outputs": [
    {
     "data": {
      "text/plain": [
       "0.5"
      ]
     },
     "execution_count": 29,
     "metadata": {},
     "output_type": "execute_result"
    }
   ],
   "source": [
    "X_train, X_test, y_train, y_test = train_test_split(df_cabin[['Fare', 'Pclass', 'Family','gender']], df_cabin['Cabin'], random_state=16)\n",
    "rf_clf = RandomForestClassifier()\n",
    "rf_clf.fit(X_train, y_train)\n",
    "y_pred = rf_clf.predict(X_test)\n",
    "accuracy_score(y_test, y_pred)"
   ]
  },
  {
   "cell_type": "code",
   "execution_count": 30,
   "id": "6a00d014",
   "metadata": {
    "execution": {
     "iopub.execute_input": "2023-02-24T11:48:54.215181Z",
     "iopub.status.busy": "2023-02-24T11:48:54.214913Z",
     "iopub.status.idle": "2023-02-24T11:48:54.220992Z",
     "shell.execute_reply": "2023-02-24T11:48:54.220186Z"
    },
    "papermill": {
     "duration": 0.024583,
     "end_time": "2023-02-24T11:48:54.222920",
     "exception": false,
     "start_time": "2023-02-24T11:48:54.198337",
     "status": "completed"
    },
    "tags": []
   },
   "outputs": [],
   "source": [
    "n_list = df[df['Cabin'] == 'n'].index"
   ]
  },
  {
   "cell_type": "code",
   "execution_count": 31,
   "id": "5c4cb58a",
   "metadata": {
    "execution": {
     "iopub.execute_input": "2023-02-24T11:48:54.255432Z",
     "iopub.status.busy": "2023-02-24T11:48:54.254620Z",
     "iopub.status.idle": "2023-02-24T11:48:54.261380Z",
     "shell.execute_reply": "2023-02-24T11:48:54.260529Z"
    },
    "papermill": {
     "duration": 0.025089,
     "end_time": "2023-02-24T11:48:54.263447",
     "exception": false,
     "start_time": "2023-02-24T11:48:54.238358",
     "status": "completed"
    },
    "tags": []
   },
   "outputs": [],
   "source": [
    "df_sort = df[['Fare', 'Pclass', 'Family','gender']].iloc[n_list, :]"
   ]
  },
  {
   "cell_type": "code",
   "execution_count": 32,
   "id": "9e810f9a",
   "metadata": {
    "execution": {
     "iopub.execute_input": "2023-02-24T11:48:54.299846Z",
     "iopub.status.busy": "2023-02-24T11:48:54.299141Z",
     "iopub.status.idle": "2023-02-24T11:48:54.328166Z",
     "shell.execute_reply": "2023-02-24T11:48:54.327371Z"
    },
    "papermill": {
     "duration": 0.051506,
     "end_time": "2023-02-24T11:48:54.330472",
     "exception": false,
     "start_time": "2023-02-24T11:48:54.278966",
     "status": "completed"
    },
    "tags": []
   },
   "outputs": [],
   "source": [
    "y_pred = rf_clf.predict(df_sort)\n",
    "df_sort['Cabin'] = y_pred"
   ]
  },
  {
   "cell_type": "code",
   "execution_count": 33,
   "id": "cf026a91",
   "metadata": {
    "execution": {
     "iopub.execute_input": "2023-02-24T11:48:54.363250Z",
     "iopub.status.busy": "2023-02-24T11:48:54.362489Z",
     "iopub.status.idle": "2023-02-24T11:48:54.370218Z",
     "shell.execute_reply": "2023-02-24T11:48:54.369273Z"
    },
    "papermill": {
     "duration": 0.02622,
     "end_time": "2023-02-24T11:48:54.372256",
     "exception": false,
     "start_time": "2023-02-24T11:48:54.346036",
     "status": "completed"
    },
    "tags": []
   },
   "outputs": [
    {
     "data": {
      "text/plain": [
       "F    557\n",
       "E    299\n",
       "G     64\n",
       "D     34\n",
       "C     33\n",
       "B     19\n",
       "A      8\n",
       "Name: Cabin, dtype: int64"
      ]
     },
     "execution_count": 33,
     "metadata": {},
     "output_type": "execute_result"
    }
   ],
   "source": [
    "df_sort['Cabin'].value_counts()"
   ]
  },
  {
   "cell_type": "code",
   "execution_count": 34,
   "id": "d4202c75",
   "metadata": {
    "execution": {
     "iopub.execute_input": "2023-02-24T11:48:54.405006Z",
     "iopub.status.busy": "2023-02-24T11:48:54.404754Z",
     "iopub.status.idle": "2023-02-24T11:48:54.424429Z",
     "shell.execute_reply": "2023-02-24T11:48:54.423372Z"
    },
    "papermill": {
     "duration": 0.04028,
     "end_time": "2023-02-24T11:48:54.428458",
     "exception": false,
     "start_time": "2023-02-24T11:48:54.388178",
     "status": "completed"
    },
    "tags": []
   },
   "outputs": [
    {
     "data": {
      "text/html": [
       "<div>\n",
       "<style scoped>\n",
       "    .dataframe tbody tr th:only-of-type {\n",
       "        vertical-align: middle;\n",
       "    }\n",
       "\n",
       "    .dataframe tbody tr th {\n",
       "        vertical-align: top;\n",
       "    }\n",
       "\n",
       "    .dataframe thead th {\n",
       "        text-align: right;\n",
       "    }\n",
       "</style>\n",
       "<table border=\"1\" class=\"dataframe\">\n",
       "  <thead>\n",
       "    <tr style=\"text-align: right;\">\n",
       "      <th></th>\n",
       "      <th>Survived</th>\n",
       "      <th>Pclass</th>\n",
       "      <th>Age</th>\n",
       "      <th>SibSp</th>\n",
       "      <th>Parch</th>\n",
       "      <th>Fare</th>\n",
       "      <th>Cabin</th>\n",
       "      <th>Embarked</th>\n",
       "      <th>gender</th>\n",
       "      <th>Family</th>\n",
       "    </tr>\n",
       "    <tr>\n",
       "      <th>PassengerId</th>\n",
       "      <th></th>\n",
       "      <th></th>\n",
       "      <th></th>\n",
       "      <th></th>\n",
       "      <th></th>\n",
       "      <th></th>\n",
       "      <th></th>\n",
       "      <th></th>\n",
       "      <th></th>\n",
       "      <th></th>\n",
       "    </tr>\n",
       "  </thead>\n",
       "  <tbody>\n",
       "    <tr>\n",
       "      <th>0</th>\n",
       "      <td>0.0</td>\n",
       "      <td>3</td>\n",
       "      <td>22.0</td>\n",
       "      <td>1</td>\n",
       "      <td>0</td>\n",
       "      <td>7.2500</td>\n",
       "      <td>n</td>\n",
       "      <td>S</td>\n",
       "      <td>0</td>\n",
       "      <td>1</td>\n",
       "    </tr>\n",
       "    <tr>\n",
       "      <th>1</th>\n",
       "      <td>1.0</td>\n",
       "      <td>1</td>\n",
       "      <td>38.0</td>\n",
       "      <td>1</td>\n",
       "      <td>0</td>\n",
       "      <td>71.2833</td>\n",
       "      <td>C</td>\n",
       "      <td>C</td>\n",
       "      <td>1</td>\n",
       "      <td>1</td>\n",
       "    </tr>\n",
       "    <tr>\n",
       "      <th>2</th>\n",
       "      <td>1.0</td>\n",
       "      <td>3</td>\n",
       "      <td>26.0</td>\n",
       "      <td>0</td>\n",
       "      <td>0</td>\n",
       "      <td>7.9250</td>\n",
       "      <td>n</td>\n",
       "      <td>S</td>\n",
       "      <td>1</td>\n",
       "      <td>0</td>\n",
       "    </tr>\n",
       "    <tr>\n",
       "      <th>3</th>\n",
       "      <td>1.0</td>\n",
       "      <td>1</td>\n",
       "      <td>35.0</td>\n",
       "      <td>1</td>\n",
       "      <td>0</td>\n",
       "      <td>53.1000</td>\n",
       "      <td>C</td>\n",
       "      <td>S</td>\n",
       "      <td>1</td>\n",
       "      <td>1</td>\n",
       "    </tr>\n",
       "    <tr>\n",
       "      <th>4</th>\n",
       "      <td>0.0</td>\n",
       "      <td>3</td>\n",
       "      <td>35.0</td>\n",
       "      <td>0</td>\n",
       "      <td>0</td>\n",
       "      <td>8.0500</td>\n",
       "      <td>n</td>\n",
       "      <td>S</td>\n",
       "      <td>0</td>\n",
       "      <td>0</td>\n",
       "    </tr>\n",
       "  </tbody>\n",
       "</table>\n",
       "</div>"
      ],
      "text/plain": [
       "             Survived  Pclass   Age  SibSp  Parch     Fare Cabin Embarked  \\\n",
       "PassengerId                                                                 \n",
       "0                 0.0       3  22.0      1      0   7.2500     n        S   \n",
       "1                 1.0       1  38.0      1      0  71.2833     C        C   \n",
       "2                 1.0       3  26.0      0      0   7.9250     n        S   \n",
       "3                 1.0       1  35.0      1      0  53.1000     C        S   \n",
       "4                 0.0       3  35.0      0      0   8.0500     n        S   \n",
       "\n",
       "             gender  Family  \n",
       "PassengerId                  \n",
       "0                 0       1  \n",
       "1                 1       1  \n",
       "2                 1       0  \n",
       "3                 1       1  \n",
       "4                 0       0  "
      ]
     },
     "execution_count": 34,
     "metadata": {},
     "output_type": "execute_result"
    }
   ],
   "source": [
    "df.head()"
   ]
  },
  {
   "cell_type": "code",
   "execution_count": 35,
   "id": "c1ac2c09",
   "metadata": {
    "execution": {
     "iopub.execute_input": "2023-02-24T11:48:54.482971Z",
     "iopub.status.busy": "2023-02-24T11:48:54.482661Z",
     "iopub.status.idle": "2023-02-24T11:48:54.487879Z",
     "shell.execute_reply": "2023-02-24T11:48:54.487056Z"
    },
    "papermill": {
     "duration": 0.037076,
     "end_time": "2023-02-24T11:48:54.494701",
     "exception": false,
     "start_time": "2023-02-24T11:48:54.457625",
     "status": "completed"
    },
    "tags": []
   },
   "outputs": [],
   "source": [
    "df.iloc[n_list, 6] = df_sort['Cabin']"
   ]
  },
  {
   "cell_type": "code",
   "execution_count": 36,
   "id": "9491ebac",
   "metadata": {
    "execution": {
     "iopub.execute_input": "2023-02-24T11:48:54.530047Z",
     "iopub.status.busy": "2023-02-24T11:48:54.529784Z",
     "iopub.status.idle": "2023-02-24T11:48:54.536596Z",
     "shell.execute_reply": "2023-02-24T11:48:54.535668Z"
    },
    "papermill": {
     "duration": 0.025243,
     "end_time": "2023-02-24T11:48:54.538401",
     "exception": false,
     "start_time": "2023-02-24T11:48:54.513158",
     "status": "completed"
    },
    "tags": []
   },
   "outputs": [
    {
     "data": {
      "text/plain": [
       "F    578\n",
       "E    340\n",
       "C    127\n",
       "B     84\n",
       "D     80\n",
       "G     69\n",
       "A     30\n",
       "T      1\n",
       "Name: Cabin, dtype: int64"
      ]
     },
     "execution_count": 36,
     "metadata": {},
     "output_type": "execute_result"
    }
   ],
   "source": [
    "df['Cabin'].value_counts()"
   ]
  },
  {
   "cell_type": "code",
   "execution_count": 37,
   "id": "70862a7f",
   "metadata": {
    "execution": {
     "iopub.execute_input": "2023-02-24T11:48:54.572599Z",
     "iopub.status.busy": "2023-02-24T11:48:54.571173Z",
     "iopub.status.idle": "2023-02-24T11:48:54.581862Z",
     "shell.execute_reply": "2023-02-24T11:48:54.581033Z"
    },
    "papermill": {
     "duration": 0.029311,
     "end_time": "2023-02-24T11:48:54.583759",
     "exception": false,
     "start_time": "2023-02-24T11:48:54.554448",
     "status": "completed"
    },
    "tags": []
   },
   "outputs": [],
   "source": [
    "df = pd.get_dummies(df, columns = ['Cabin', 'Embarked'])"
   ]
  },
  {
   "cell_type": "code",
   "execution_count": 38,
   "id": "a521e12b",
   "metadata": {
    "execution": {
     "iopub.execute_input": "2023-02-24T11:48:54.617227Z",
     "iopub.status.busy": "2023-02-24T11:48:54.616520Z",
     "iopub.status.idle": "2023-02-24T11:48:54.629035Z",
     "shell.execute_reply": "2023-02-24T11:48:54.627500Z"
    },
    "papermill": {
     "duration": 0.031314,
     "end_time": "2023-02-24T11:48:54.630989",
     "exception": false,
     "start_time": "2023-02-24T11:48:54.599675",
     "status": "completed"
    },
    "tags": []
   },
   "outputs": [
    {
     "name": "stdout",
     "output_type": "stream",
     "text": [
      "<class 'pandas.core.frame.DataFrame'>\n",
      "Int64Index: 1309 entries, 0 to 1308\n",
      "Data columns (total 19 columns):\n",
      " #   Column      Non-Null Count  Dtype  \n",
      "---  ------      --------------  -----  \n",
      " 0   Survived    891 non-null    float64\n",
      " 1   Pclass      1309 non-null   int64  \n",
      " 2   Age         1309 non-null   float64\n",
      " 3   SibSp       1309 non-null   int64  \n",
      " 4   Parch       1309 non-null   int64  \n",
      " 5   Fare        1309 non-null   float64\n",
      " 6   gender      1309 non-null   int64  \n",
      " 7   Family      1309 non-null   int64  \n",
      " 8   Cabin_A     1309 non-null   uint8  \n",
      " 9   Cabin_B     1309 non-null   uint8  \n",
      " 10  Cabin_C     1309 non-null   uint8  \n",
      " 11  Cabin_D     1309 non-null   uint8  \n",
      " 12  Cabin_E     1309 non-null   uint8  \n",
      " 13  Cabin_F     1309 non-null   uint8  \n",
      " 14  Cabin_G     1309 non-null   uint8  \n",
      " 15  Cabin_T     1309 non-null   uint8  \n",
      " 16  Embarked_C  1309 non-null   uint8  \n",
      " 17  Embarked_Q  1309 non-null   uint8  \n",
      " 18  Embarked_S  1309 non-null   uint8  \n",
      "dtypes: float64(3), int64(5), uint8(11)\n",
      "memory usage: 138.4 KB\n"
     ]
    }
   ],
   "source": [
    "df.info()"
   ]
  },
  {
   "cell_type": "code",
   "execution_count": 39,
   "id": "5762e22b",
   "metadata": {
    "execution": {
     "iopub.execute_input": "2023-02-24T11:48:54.664400Z",
     "iopub.status.busy": "2023-02-24T11:48:54.663883Z",
     "iopub.status.idle": "2023-02-24T11:48:54.670705Z",
     "shell.execute_reply": "2023-02-24T11:48:54.669900Z"
    },
    "papermill": {
     "duration": 0.025462,
     "end_time": "2023-02-24T11:48:54.672564",
     "exception": false,
     "start_time": "2023-02-24T11:48:54.647102",
     "status": "completed"
    },
    "tags": []
   },
   "outputs": [],
   "source": [
    "df_log = np.log1p(df[['Family', 'Fare']])\n",
    "df['Family'] = df_log['Family']\n",
    "df['Fare'] = df_log['Fare']"
   ]
  },
  {
   "cell_type": "code",
   "execution_count": 40,
   "id": "b2eaca24",
   "metadata": {
    "execution": {
     "iopub.execute_input": "2023-02-24T11:48:54.706129Z",
     "iopub.status.busy": "2023-02-24T11:48:54.705410Z",
     "iopub.status.idle": "2023-02-24T11:48:54.970993Z",
     "shell.execute_reply": "2023-02-24T11:48:54.970055Z"
    },
    "papermill": {
     "duration": 0.284511,
     "end_time": "2023-02-24T11:48:54.973058",
     "exception": false,
     "start_time": "2023-02-24T11:48:54.688547",
     "status": "completed"
    },
    "tags": []
   },
   "outputs": [
    {
     "data": {
      "text/plain": [
       "<AxesSubplot:xlabel='Fare', ylabel='Count'>"
      ]
     },
     "execution_count": 40,
     "metadata": {},
     "output_type": "execute_result"
    },
    {
     "data": {
      "image/png": "[encoded data removed]",
      "text/plain": [
       "<Figure size 640x480 with 1 Axes>"
      ]
     },
     "metadata": {},
     "output_type": "display_data"
    }
   ],
   "source": [
    "sns.histplot(data=df, x='Fare')"
   ]
  },
  {
   "cell_type": "code",
   "execution_count": 41,
   "id": "0f0fb920",
   "metadata": {
    "execution": {
     "iopub.execute_input": "2023-02-24T11:48:55.009296Z",
     "iopub.status.busy": "2023-02-24T11:48:55.007667Z",
     "iopub.status.idle": "2023-02-24T11:48:55.017822Z",
     "shell.execute_reply": "2023-02-24T11:48:55.016983Z"
    },
    "papermill": {
     "duration": 0.02959,
     "end_time": "2023-02-24T11:48:55.019750",
     "exception": false,
     "start_time": "2023-02-24T11:48:54.990160",
     "status": "completed"
    },
    "tags": []
   },
   "outputs": [],
   "source": [
    "from sklearn.preprocessing import MinMaxScaler\n",
    "\n",
    "scaler = MinMaxScaler()\n",
    "scaler.fit(df)\n",
    "scaled = scaler.transform(df)\n",
    "df_scaled = pd.DataFrame(data=scaled, columns=df.columns)"
   ]
  },
  {
   "cell_type": "code",
   "execution_count": 42,
   "id": "c65731a8",
   "metadata": {
    "execution": {
     "iopub.execute_input": "2023-02-24T11:48:55.054709Z",
     "iopub.status.busy": "2023-02-24T11:48:55.053263Z",
     "iopub.status.idle": "2023-02-24T11:48:55.111001Z",
     "shell.execute_reply": "2023-02-24T11:48:55.109968Z"
    },
    "papermill": {
     "duration": 0.076971,
     "end_time": "2023-02-24T11:48:55.113038",
     "exception": false,
     "start_time": "2023-02-24T11:48:55.036067",
     "status": "completed"
    },
    "tags": []
   },
   "outputs": [
    {
     "data": {
      "text/html": [
       "<div>\n",
       "<style scoped>\n",
       "    .dataframe tbody tr th:only-of-type {\n",
       "        vertical-align: middle;\n",
       "    }\n",
       "\n",
       "    .dataframe tbody tr th {\n",
       "        vertical-align: top;\n",
       "    }\n",
       "\n",
       "    .dataframe thead th {\n",
       "        text-align: right;\n",
       "    }\n",
       "</style>\n",
       "<table border=\"1\" class=\"dataframe\">\n",
       "  <thead>\n",
       "    <tr style=\"text-align: right;\">\n",
       "      <th></th>\n",
       "      <th>Survived</th>\n",
       "      <th>Pclass</th>\n",
       "      <th>Age</th>\n",
       "      <th>SibSp</th>\n",
       "      <th>Parch</th>\n",
       "      <th>Fare</th>\n",
       "      <th>gender</th>\n",
       "      <th>Family</th>\n",
       "      <th>Cabin_A</th>\n",
       "      <th>Cabin_B</th>\n",
       "      <th>Cabin_C</th>\n",
       "      <th>Cabin_D</th>\n",
       "      <th>Cabin_E</th>\n",
       "      <th>Cabin_F</th>\n",
       "      <th>Cabin_G</th>\n",
       "      <th>Cabin_T</th>\n",
       "      <th>Embarked_C</th>\n",
       "      <th>Embarked_Q</th>\n",
       "      <th>Embarked_S</th>\n",
       "    </tr>\n",
       "  </thead>\n",
       "  <tbody>\n",
       "    <tr>\n",
       "      <th>count</th>\n",
       "      <td>891.000000</td>\n",
       "      <td>1309.000000</td>\n",
       "      <td>1309.000000</td>\n",
       "      <td>1309.000000</td>\n",
       "      <td>1309.000000</td>\n",
       "      <td>1309.000000</td>\n",
       "      <td>1309.000000</td>\n",
       "      <td>1309.000000</td>\n",
       "      <td>1309.000000</td>\n",
       "      <td>1309.000000</td>\n",
       "      <td>1309.000000</td>\n",
       "      <td>1309.000000</td>\n",
       "      <td>1309.00000</td>\n",
       "      <td>1309.000000</td>\n",
       "      <td>1309.000000</td>\n",
       "      <td>1309.000000</td>\n",
       "      <td>1309.000000</td>\n",
       "      <td>1309.000000</td>\n",
       "      <td>1309.000000</td>\n",
       "    </tr>\n",
       "    <tr>\n",
       "      <th>mean</th>\n",
       "      <td>0.383838</td>\n",
       "      <td>0.647441</td>\n",
       "      <td>0.372180</td>\n",
       "      <td>0.062357</td>\n",
       "      <td>0.042781</td>\n",
       "      <td>0.477467</td>\n",
       "      <td>0.355997</td>\n",
       "      <td>0.175711</td>\n",
       "      <td>0.022918</td>\n",
       "      <td>0.064171</td>\n",
       "      <td>0.097021</td>\n",
       "      <td>0.061115</td>\n",
       "      <td>0.25974</td>\n",
       "      <td>0.441558</td>\n",
       "      <td>0.052712</td>\n",
       "      <td>0.000764</td>\n",
       "      <td>0.206264</td>\n",
       "      <td>0.093965</td>\n",
       "      <td>0.699771</td>\n",
       "    </tr>\n",
       "    <tr>\n",
       "      <th>std</th>\n",
       "      <td>0.486592</td>\n",
       "      <td>0.418918</td>\n",
       "      <td>0.161383</td>\n",
       "      <td>0.130207</td>\n",
       "      <td>0.096173</td>\n",
       "      <td>0.155173</td>\n",
       "      <td>0.478997</td>\n",
       "      <td>0.244811</td>\n",
       "      <td>0.149700</td>\n",
       "      <td>0.245151</td>\n",
       "      <td>0.296099</td>\n",
       "      <td>0.239633</td>\n",
       "      <td>0.43866</td>\n",
       "      <td>0.496763</td>\n",
       "      <td>0.223543</td>\n",
       "      <td>0.027639</td>\n",
       "      <td>0.404777</td>\n",
       "      <td>0.291891</td>\n",
       "      <td>0.458533</td>\n",
       "    </tr>\n",
       "    <tr>\n",
       "      <th>min</th>\n",
       "      <td>0.000000</td>\n",
       "      <td>0.000000</td>\n",
       "      <td>0.000000</td>\n",
       "      <td>0.000000</td>\n",
       "      <td>0.000000</td>\n",
       "      <td>0.000000</td>\n",
       "      <td>0.000000</td>\n",
       "      <td>0.000000</td>\n",
       "      <td>0.000000</td>\n",
       "      <td>0.000000</td>\n",
       "      <td>0.000000</td>\n",
       "      <td>0.000000</td>\n",
       "      <td>0.00000</td>\n",
       "      <td>0.000000</td>\n",
       "      <td>0.000000</td>\n",
       "      <td>0.000000</td>\n",
       "      <td>0.000000</td>\n",
       "      <td>0.000000</td>\n",
       "      <td>0.000000</td>\n",
       "    </tr>\n",
       "    <tr>\n",
       "      <th>25%</th>\n",
       "      <td>0.000000</td>\n",
       "      <td>0.500000</td>\n",
       "      <td>0.273456</td>\n",
       "      <td>0.000000</td>\n",
       "      <td>0.000000</td>\n",
       "      <td>0.350202</td>\n",
       "      <td>0.000000</td>\n",
       "      <td>0.000000</td>\n",
       "      <td>0.000000</td>\n",
       "      <td>0.000000</td>\n",
       "      <td>0.000000</td>\n",
       "      <td>0.000000</td>\n",
       "      <td>0.00000</td>\n",
       "      <td>0.000000</td>\n",
       "      <td>0.000000</td>\n",
       "      <td>0.000000</td>\n",
       "      <td>0.000000</td>\n",
       "      <td>0.000000</td>\n",
       "      <td>0.000000</td>\n",
       "    </tr>\n",
       "    <tr>\n",
       "      <th>50%</th>\n",
       "      <td>0.000000</td>\n",
       "      <td>1.000000</td>\n",
       "      <td>0.372180</td>\n",
       "      <td>0.000000</td>\n",
       "      <td>0.000000</td>\n",
       "      <td>0.438698</td>\n",
       "      <td>0.000000</td>\n",
       "      <td>0.000000</td>\n",
       "      <td>0.000000</td>\n",
       "      <td>0.000000</td>\n",
       "      <td>0.000000</td>\n",
       "      <td>0.000000</td>\n",
       "      <td>0.00000</td>\n",
       "      <td>0.000000</td>\n",
       "      <td>0.000000</td>\n",
       "      <td>0.000000</td>\n",
       "      <td>0.000000</td>\n",
       "      <td>0.000000</td>\n",
       "      <td>1.000000</td>\n",
       "    </tr>\n",
       "    <tr>\n",
       "      <th>75%</th>\n",
       "      <td>1.000000</td>\n",
       "      <td>1.000000</td>\n",
       "      <td>0.436302</td>\n",
       "      <td>0.125000</td>\n",
       "      <td>0.000000</td>\n",
       "      <td>0.556696</td>\n",
       "      <td>1.000000</td>\n",
       "      <td>0.289065</td>\n",
       "      <td>0.000000</td>\n",
       "      <td>0.000000</td>\n",
       "      <td>0.000000</td>\n",
       "      <td>0.000000</td>\n",
       "      <td>1.00000</td>\n",
       "      <td>1.000000</td>\n",
       "      <td>0.000000</td>\n",
       "      <td>0.000000</td>\n",
       "      <td>0.000000</td>\n",
       "      <td>0.000000</td>\n",
       "      <td>1.000000</td>\n",
       "    </tr>\n",
       "    <tr>\n",
       "      <th>max</th>\n",
       "      <td>1.000000</td>\n",
       "      <td>1.000000</td>\n",
       "      <td>1.000000</td>\n",
       "      <td>1.000000</td>\n",
       "      <td>1.000000</td>\n",
       "      <td>1.000000</td>\n",
       "      <td>1.000000</td>\n",
       "      <td>1.000000</td>\n",
       "      <td>1.000000</td>\n",
       "      <td>1.000000</td>\n",
       "      <td>1.000000</td>\n",
       "      <td>1.000000</td>\n",
       "      <td>1.00000</td>\n",
       "      <td>1.000000</td>\n",
       "      <td>1.000000</td>\n",
       "      <td>1.000000</td>\n",
       "      <td>1.000000</td>\n",
       "      <td>1.000000</td>\n",
       "      <td>1.000000</td>\n",
       "    </tr>\n",
       "  </tbody>\n",
       "</table>\n",
       "</div>"
      ],
      "text/plain": [
       "         Survived       Pclass          Age        SibSp        Parch  \\\n",
       "count  891.000000  1309.000000  1309.000000  1309.000000  1309.000000   \n",
       "mean     0.383838     0.647441     0.372180     0.062357     0.042781   \n",
       "std      0.486592     0.418918     0.161383     0.130207     0.096173   \n",
       "min      0.000000     0.000000     0.000000     0.000000     0.000000   \n",
       "25%      0.000000     0.500000     0.273456     0.000000     0.000000   \n",
       "50%      0.000000     1.000000     0.372180     0.000000     0.000000   \n",
       "75%      1.000000     1.000000     0.436302     0.125000     0.000000   \n",
       "max      1.000000     1.000000     1.000000     1.000000     1.000000   \n",
       "\n",
       "              Fare       gender       Family      Cabin_A      Cabin_B  \\\n",
       "count  1309.000000  1309.000000  1309.000000  1309.000000  1309.000000   \n",
       "mean      0.477467     0.355997     0.175711     0.022918     0.064171   \n",
       "std       0.155173     0.478997     0.244811     0.149700     0.245151   \n",
       "min       0.000000     0.000000     0.000000     0.000000     0.000000   \n",
       "25%       0.350202     0.000000     0.000000     0.000000     0.000000   \n",
       "50%       0.438698     0.000000     0.000000     0.000000     0.000000   \n",
       "75%       0.556696     1.000000     0.289065     0.000000     0.000000   \n",
       "max       1.000000     1.000000     1.000000     1.000000     1.000000   \n",
       "\n",
       "           Cabin_C      Cabin_D     Cabin_E      Cabin_F      Cabin_G  \\\n",
       "count  1309.000000  1309.000000  1309.00000  1309.000000  1309.000000   \n",
       "mean      0.097021     0.061115     0.25974     0.441558     0.052712   \n",
       "std       0.296099     0.239633     0.43866     0.496763     0.223543   \n",
       "min       0.000000     0.000000     0.00000     0.000000     0.000000   \n",
       "25%       0.000000     0.000000     0.00000     0.000000     0.000000   \n",
       "50%       0.000000     0.000000     0.00000     0.000000     0.000000   \n",
       "75%       0.000000     0.000000     1.00000     1.000000     0.000000   \n",
       "max       1.000000     1.000000     1.00000     1.000000     1.000000   \n",
       "\n",
       "           Cabin_T   Embarked_C   Embarked_Q   Embarked_S  \n",
       "count  1309.000000  1309.000000  1309.000000  1309.000000  \n",
       "mean      0.000764     0.206264     0.093965     0.699771  \n",
       "std       0.027639     0.404777     0.291891     0.458533  \n",
       "min       0.000000     0.000000     0.000000     0.000000  \n",
       "25%       0.000000     0.000000     0.000000     0.000000  \n",
       "50%       0.000000     0.000000     0.000000     1.000000  \n",
       "75%       0.000000     0.000000     0.000000     1.000000  \n",
       "max       1.000000     1.000000     1.000000     1.000000  "
      ]
     },
     "execution_count": 42,
     "metadata": {},
     "output_type": "execute_result"
    }
   ],
   "source": [
    "df_scaled.describe()"
   ]
  },
  {
   "cell_type": "markdown",
   "id": "5aa765f3",
   "metadata": {
    "papermill": {
     "duration": 0.016592,
     "end_time": "2023-02-24T11:48:55.146699",
     "exception": false,
     "start_time": "2023-02-24T11:48:55.130107",
     "status": "completed"
    },
    "tags": []
   },
   "source": [
    "# 이제 다시 학습 데이터와 테스트 데이터를 나누자\n",
    "### 0 ~ 890 : 학습 데이터\n",
    "### 891 ~ 1308 : 테스트 데이터"
   ]
  },
  {
   "cell_type": "code",
   "execution_count": 43,
   "id": "39bb9b4d",
   "metadata": {
    "execution": {
     "iopub.execute_input": "2023-02-24T11:48:55.181451Z",
     "iopub.status.busy": "2023-02-24T11:48:55.181153Z",
     "iopub.status.idle": "2023-02-24T11:48:55.211414Z",
     "shell.execute_reply": "2023-02-24T11:48:55.210483Z"
    },
    "papermill": {
     "duration": 0.050154,
     "end_time": "2023-02-24T11:48:55.213498",
     "exception": false,
     "start_time": "2023-02-24T11:48:55.163344",
     "status": "completed"
    },
    "tags": []
   },
   "outputs": [
    {
     "data": {
      "text/html": [
       "<div>\n",
       "<style scoped>\n",
       "    .dataframe tbody tr th:only-of-type {\n",
       "        vertical-align: middle;\n",
       "    }\n",
       "\n",
       "    .dataframe tbody tr th {\n",
       "        vertical-align: top;\n",
       "    }\n",
       "\n",
       "    .dataframe thead th {\n",
       "        text-align: right;\n",
       "    }\n",
       "</style>\n",
       "<table border=\"1\" class=\"dataframe\">\n",
       "  <thead>\n",
       "    <tr style=\"text-align: right;\">\n",
       "      <th></th>\n",
       "      <th>Survived</th>\n",
       "      <th>Pclass</th>\n",
       "      <th>Age</th>\n",
       "      <th>SibSp</th>\n",
       "      <th>Parch</th>\n",
       "      <th>Fare</th>\n",
       "      <th>gender</th>\n",
       "      <th>Family</th>\n",
       "      <th>Cabin_A</th>\n",
       "      <th>Cabin_B</th>\n",
       "      <th>Cabin_C</th>\n",
       "      <th>Cabin_D</th>\n",
       "      <th>Cabin_E</th>\n",
       "      <th>Cabin_F</th>\n",
       "      <th>Cabin_G</th>\n",
       "      <th>Cabin_T</th>\n",
       "      <th>Embarked_C</th>\n",
       "      <th>Embarked_Q</th>\n",
       "      <th>Embarked_S</th>\n",
       "    </tr>\n",
       "  </thead>\n",
       "  <tbody>\n",
       "    <tr>\n",
       "      <th>0</th>\n",
       "      <td>0.0</td>\n",
       "      <td>1.0</td>\n",
       "      <td>0.273456</td>\n",
       "      <td>0.125</td>\n",
       "      <td>0.000000</td>\n",
       "      <td>0.338125</td>\n",
       "      <td>0.0</td>\n",
       "      <td>0.289065</td>\n",
       "      <td>0.0</td>\n",
       "      <td>0.0</td>\n",
       "      <td>0.0</td>\n",
       "      <td>0.0</td>\n",
       "      <td>0.0</td>\n",
       "      <td>1.0</td>\n",
       "      <td>0.0</td>\n",
       "      <td>0.0</td>\n",
       "      <td>0.0</td>\n",
       "      <td>0.0</td>\n",
       "      <td>1.0</td>\n",
       "    </tr>\n",
       "    <tr>\n",
       "      <th>1</th>\n",
       "      <td>1.0</td>\n",
       "      <td>0.0</td>\n",
       "      <td>0.473882</td>\n",
       "      <td>0.125</td>\n",
       "      <td>0.000000</td>\n",
       "      <td>0.685892</td>\n",
       "      <td>1.0</td>\n",
       "      <td>0.289065</td>\n",
       "      <td>0.0</td>\n",
       "      <td>0.0</td>\n",
       "      <td>1.0</td>\n",
       "      <td>0.0</td>\n",
       "      <td>0.0</td>\n",
       "      <td>0.0</td>\n",
       "      <td>0.0</td>\n",
       "      <td>0.0</td>\n",
       "      <td>1.0</td>\n",
       "      <td>0.0</td>\n",
       "      <td>0.0</td>\n",
       "    </tr>\n",
       "    <tr>\n",
       "      <th>2</th>\n",
       "      <td>1.0</td>\n",
       "      <td>1.0</td>\n",
       "      <td>0.323563</td>\n",
       "      <td>0.000</td>\n",
       "      <td>0.000000</td>\n",
       "      <td>0.350727</td>\n",
       "      <td>1.0</td>\n",
       "      <td>0.000000</td>\n",
       "      <td>0.0</td>\n",
       "      <td>0.0</td>\n",
       "      <td>0.0</td>\n",
       "      <td>0.0</td>\n",
       "      <td>1.0</td>\n",
       "      <td>0.0</td>\n",
       "      <td>0.0</td>\n",
       "      <td>0.0</td>\n",
       "      <td>0.0</td>\n",
       "      <td>0.0</td>\n",
       "      <td>1.0</td>\n",
       "    </tr>\n",
       "    <tr>\n",
       "      <th>3</th>\n",
       "      <td>1.0</td>\n",
       "      <td>0.0</td>\n",
       "      <td>0.436302</td>\n",
       "      <td>0.125</td>\n",
       "      <td>0.000000</td>\n",
       "      <td>0.639463</td>\n",
       "      <td>1.0</td>\n",
       "      <td>0.289065</td>\n",
       "      <td>0.0</td>\n",
       "      <td>0.0</td>\n",
       "      <td>1.0</td>\n",
       "      <td>0.0</td>\n",
       "      <td>0.0</td>\n",
       "      <td>0.0</td>\n",
       "      <td>0.0</td>\n",
       "      <td>0.0</td>\n",
       "      <td>0.0</td>\n",
       "      <td>0.0</td>\n",
       "      <td>1.0</td>\n",
       "    </tr>\n",
       "    <tr>\n",
       "      <th>4</th>\n",
       "      <td>0.0</td>\n",
       "      <td>1.0</td>\n",
       "      <td>0.436302</td>\n",
       "      <td>0.000</td>\n",
       "      <td>0.000000</td>\n",
       "      <td>0.352955</td>\n",
       "      <td>0.0</td>\n",
       "      <td>0.000000</td>\n",
       "      <td>0.0</td>\n",
       "      <td>0.0</td>\n",
       "      <td>0.0</td>\n",
       "      <td>0.0</td>\n",
       "      <td>1.0</td>\n",
       "      <td>0.0</td>\n",
       "      <td>0.0</td>\n",
       "      <td>0.0</td>\n",
       "      <td>0.0</td>\n",
       "      <td>0.0</td>\n",
       "      <td>1.0</td>\n",
       "    </tr>\n",
       "    <tr>\n",
       "      <th>...</th>\n",
       "      <td>...</td>\n",
       "      <td>...</td>\n",
       "      <td>...</td>\n",
       "      <td>...</td>\n",
       "      <td>...</td>\n",
       "      <td>...</td>\n",
       "      <td>...</td>\n",
       "      <td>...</td>\n",
       "      <td>...</td>\n",
       "      <td>...</td>\n",
       "      <td>...</td>\n",
       "      <td>...</td>\n",
       "      <td>...</td>\n",
       "      <td>...</td>\n",
       "      <td>...</td>\n",
       "      <td>...</td>\n",
       "      <td>...</td>\n",
       "      <td>...</td>\n",
       "      <td>...</td>\n",
       "    </tr>\n",
       "    <tr>\n",
       "      <th>886</th>\n",
       "      <td>0.0</td>\n",
       "      <td>0.5</td>\n",
       "      <td>0.336089</td>\n",
       "      <td>0.000</td>\n",
       "      <td>0.000000</td>\n",
       "      <td>0.422864</td>\n",
       "      <td>0.0</td>\n",
       "      <td>0.000000</td>\n",
       "      <td>0.0</td>\n",
       "      <td>0.0</td>\n",
       "      <td>0.0</td>\n",
       "      <td>0.0</td>\n",
       "      <td>0.0</td>\n",
       "      <td>1.0</td>\n",
       "      <td>0.0</td>\n",
       "      <td>0.0</td>\n",
       "      <td>0.0</td>\n",
       "      <td>0.0</td>\n",
       "      <td>1.0</td>\n",
       "    </tr>\n",
       "    <tr>\n",
       "      <th>887</th>\n",
       "      <td>1.0</td>\n",
       "      <td>0.0</td>\n",
       "      <td>0.235876</td>\n",
       "      <td>0.000</td>\n",
       "      <td>0.000000</td>\n",
       "      <td>0.550238</td>\n",
       "      <td>1.0</td>\n",
       "      <td>0.000000</td>\n",
       "      <td>0.0</td>\n",
       "      <td>1.0</td>\n",
       "      <td>0.0</td>\n",
       "      <td>0.0</td>\n",
       "      <td>0.0</td>\n",
       "      <td>0.0</td>\n",
       "      <td>0.0</td>\n",
       "      <td>0.0</td>\n",
       "      <td>0.0</td>\n",
       "      <td>0.0</td>\n",
       "      <td>1.0</td>\n",
       "    </tr>\n",
       "    <tr>\n",
       "      <th>888</th>\n",
       "      <td>0.0</td>\n",
       "      <td>1.0</td>\n",
       "      <td>0.372180</td>\n",
       "      <td>0.125</td>\n",
       "      <td>0.222222</td>\n",
       "      <td>0.512205</td>\n",
       "      <td>1.0</td>\n",
       "      <td>0.578130</td>\n",
       "      <td>0.0</td>\n",
       "      <td>0.0</td>\n",
       "      <td>0.0</td>\n",
       "      <td>0.0</td>\n",
       "      <td>0.0</td>\n",
       "      <td>1.0</td>\n",
       "      <td>0.0</td>\n",
       "      <td>0.0</td>\n",
       "      <td>0.0</td>\n",
       "      <td>0.0</td>\n",
       "      <td>1.0</td>\n",
       "    </tr>\n",
       "    <tr>\n",
       "      <th>889</th>\n",
       "      <td>1.0</td>\n",
       "      <td>0.0</td>\n",
       "      <td>0.323563</td>\n",
       "      <td>0.000</td>\n",
       "      <td>0.000000</td>\n",
       "      <td>0.550238</td>\n",
       "      <td>0.0</td>\n",
       "      <td>0.000000</td>\n",
       "      <td>0.0</td>\n",
       "      <td>0.0</td>\n",
       "      <td>1.0</td>\n",
       "      <td>0.0</td>\n",
       "      <td>0.0</td>\n",
       "      <td>0.0</td>\n",
       "      <td>0.0</td>\n",
       "      <td>0.0</td>\n",
       "      <td>1.0</td>\n",
       "      <td>0.0</td>\n",
       "      <td>0.0</td>\n",
       "    </tr>\n",
       "    <tr>\n",
       "      <th>890</th>\n",
       "      <td>0.0</td>\n",
       "      <td>1.0</td>\n",
       "      <td>0.398722</td>\n",
       "      <td>0.000</td>\n",
       "      <td>0.000000</td>\n",
       "      <td>0.347554</td>\n",
       "      <td>0.0</td>\n",
       "      <td>0.000000</td>\n",
       "      <td>0.0</td>\n",
       "      <td>0.0</td>\n",
       "      <td>0.0</td>\n",
       "      <td>0.0</td>\n",
       "      <td>0.0</td>\n",
       "      <td>1.0</td>\n",
       "      <td>0.0</td>\n",
       "      <td>0.0</td>\n",
       "      <td>0.0</td>\n",
       "      <td>1.0</td>\n",
       "      <td>0.0</td>\n",
       "    </tr>\n",
       "  </tbody>\n",
       "</table>\n",
       "<p>891 rows × 19 columns</p>\n",
       "</div>"
      ],
      "text/plain": [
       "     Survived  Pclass       Age  SibSp     Parch      Fare  gender    Family  \\\n",
       "0         0.0     1.0  0.273456  0.125  0.000000  0.338125     0.0  0.289065   \n",
       "1         1.0     0.0  0.473882  0.125  0.000000  0.685892     1.0  0.289065   \n",
       "2         1.0     1.0  0.323563  0.000  0.000000  0.350727     1.0  0.000000   \n",
       "3         1.0     0.0  0.436302  0.125  0.000000  0.639463     1.0  0.289065   \n",
       "4         0.0     1.0  0.436302  0.000  0.000000  0.352955     0.0  0.000000   \n",
       "..        ...     ...       ...    ...       ...       ...     ...       ...   \n",
       "886       0.0     0.5  0.336089  0.000  0.000000  0.422864     0.0  0.000000   \n",
       "887       1.0     0.0  0.235876  0.000  0.000000  0.550238     1.0  0.000000   \n",
       "888       0.0     1.0  0.372180  0.125  0.222222  0.512205     1.0  0.578130   \n",
       "889       1.0     0.0  0.323563  0.000  0.000000  0.550238     0.0  0.000000   \n",
       "890       0.0     1.0  0.398722  0.000  0.000000  0.347554     0.0  0.000000   \n",
       "\n",
       "     Cabin_A  Cabin_B  Cabin_C  Cabin_D  Cabin_E  Cabin_F  Cabin_G  Cabin_T  \\\n",
       "0        0.0      0.0      0.0      0.0      0.0      1.0      0.0      0.0   \n",
       "1        0.0      0.0      1.0      0.0      0.0      0.0      0.0      0.0   \n",
       "2        0.0      0.0      0.0      0.0      1.0      0.0      0.0      0.0   \n",
       "3        0.0      0.0      1.0      0.0      0.0      0.0      0.0      0.0   \n",
       "4        0.0      0.0      0.0      0.0      1.0      0.0      0.0      0.0   \n",
       "..       ...      ...      ...      ...      ...      ...      ...      ...   \n",
       "886      0.0      0.0      0.0      0.0      0.0      1.0      0.0      0.0   \n",
       "887      0.0      1.0      0.0      0.0      0.0      0.0      0.0      0.0   \n",
       "888      0.0      0.0      0.0      0.0      0.0      1.0      0.0      0.0   \n",
       "889      0.0      0.0      1.0      0.0      0.0      0.0      0.0      0.0   \n",
       "890      0.0      0.0      0.0      0.0      0.0      1.0      0.0      0.0   \n",
       "\n",
       "     Embarked_C  Embarked_Q  Embarked_S  \n",
       "0           0.0         0.0         1.0  \n",
       "1           1.0         0.0         0.0  \n",
       "2           0.0         0.0         1.0  \n",
       "3           0.0         0.0         1.0  \n",
       "4           0.0         0.0         1.0  \n",
       "..          ...         ...         ...  \n",
       "886         0.0         0.0         1.0  \n",
       "887         0.0         0.0         1.0  \n",
       "888         0.0         0.0         1.0  \n",
       "889         1.0         0.0         0.0  \n",
       "890         0.0         1.0         0.0  \n",
       "\n",
       "[891 rows x 19 columns]"
      ]
     },
     "execution_count": 43,
     "metadata": {},
     "output_type": "execute_result"
    }
   ],
   "source": [
    "df_train = df_scaled.iloc[0:891, :]\n",
    "df_train "
   ]
  },
  {
   "cell_type": "code",
   "execution_count": 44,
   "id": "51949538",
   "metadata": {
    "execution": {
     "iopub.execute_input": "2023-02-24T11:48:55.249367Z",
     "iopub.status.busy": "2023-02-24T11:48:55.248591Z",
     "iopub.status.idle": "2023-02-24T11:48:55.254154Z",
     "shell.execute_reply": "2023-02-24T11:48:55.253335Z"
    },
    "papermill": {
     "duration": 0.025409,
     "end_time": "2023-02-24T11:48:55.256080",
     "exception": false,
     "start_time": "2023-02-24T11:48:55.230671",
     "status": "completed"
    },
    "tags": []
   },
   "outputs": [],
   "source": [
    "df_test = df_scaled.iloc[891:1309, :]\n",
    "df_test = df_test.drop(['Survived'], axis=1)"
   ]
  },
  {
   "cell_type": "code",
   "execution_count": 45,
   "id": "d3a894f3",
   "metadata": {
    "execution": {
     "iopub.execute_input": "2023-02-24T11:48:55.293612Z",
     "iopub.status.busy": "2023-02-24T11:48:55.292931Z",
     "iopub.status.idle": "2023-02-24T11:48:55.355629Z",
     "shell.execute_reply": "2023-02-24T11:48:55.354567Z"
    },
    "papermill": {
     "duration": 0.085773,
     "end_time": "2023-02-24T11:48:55.358948",
     "exception": false,
     "start_time": "2023-02-24T11:48:55.273175",
     "status": "completed"
    },
    "tags": []
   },
   "outputs": [
    {
     "data": {
      "text/html": [
       "<div>\n",
       "<style scoped>\n",
       "    .dataframe tbody tr th:only-of-type {\n",
       "        vertical-align: middle;\n",
       "    }\n",
       "\n",
       "    .dataframe tbody tr th {\n",
       "        vertical-align: top;\n",
       "    }\n",
       "\n",
       "    .dataframe thead th {\n",
       "        text-align: right;\n",
       "    }\n",
       "</style>\n",
       "<table border=\"1\" class=\"dataframe\">\n",
       "  <thead>\n",
       "    <tr style=\"text-align: right;\">\n",
       "      <th></th>\n",
       "      <th>Pclass</th>\n",
       "      <th>Age</th>\n",
       "      <th>SibSp</th>\n",
       "      <th>Parch</th>\n",
       "      <th>Fare</th>\n",
       "      <th>gender</th>\n",
       "      <th>Family</th>\n",
       "      <th>Cabin_A</th>\n",
       "      <th>Cabin_B</th>\n",
       "      <th>Cabin_C</th>\n",
       "      <th>Cabin_D</th>\n",
       "      <th>Cabin_E</th>\n",
       "      <th>Cabin_F</th>\n",
       "      <th>Cabin_G</th>\n",
       "      <th>Cabin_T</th>\n",
       "      <th>Embarked_C</th>\n",
       "      <th>Embarked_Q</th>\n",
       "      <th>Embarked_S</th>\n",
       "    </tr>\n",
       "  </thead>\n",
       "  <tbody>\n",
       "    <tr>\n",
       "      <th>891</th>\n",
       "      <td>1.0</td>\n",
       "      <td>0.430039</td>\n",
       "      <td>0.000</td>\n",
       "      <td>0.000000</td>\n",
       "      <td>0.348997</td>\n",
       "      <td>0.0</td>\n",
       "      <td>0.000000</td>\n",
       "      <td>0.0</td>\n",
       "      <td>0.0</td>\n",
       "      <td>0.0</td>\n",
       "      <td>0.0</td>\n",
       "      <td>0.0</td>\n",
       "      <td>1.0</td>\n",
       "      <td>0.0</td>\n",
       "      <td>0.0</td>\n",
       "      <td>0.0</td>\n",
       "      <td>1.0</td>\n",
       "      <td>0.0</td>\n",
       "    </tr>\n",
       "    <tr>\n",
       "      <th>892</th>\n",
       "      <td>1.0</td>\n",
       "      <td>0.586622</td>\n",
       "      <td>0.125</td>\n",
       "      <td>0.000000</td>\n",
       "      <td>0.333195</td>\n",
       "      <td>1.0</td>\n",
       "      <td>0.289065</td>\n",
       "      <td>0.0</td>\n",
       "      <td>0.0</td>\n",
       "      <td>0.0</td>\n",
       "      <td>0.0</td>\n",
       "      <td>0.0</td>\n",
       "      <td>0.0</td>\n",
       "      <td>1.0</td>\n",
       "      <td>0.0</td>\n",
       "      <td>0.0</td>\n",
       "      <td>0.0</td>\n",
       "      <td>1.0</td>\n",
       "    </tr>\n",
       "    <tr>\n",
       "      <th>893</th>\n",
       "      <td>0.5</td>\n",
       "      <td>0.774521</td>\n",
       "      <td>0.000</td>\n",
       "      <td>0.000000</td>\n",
       "      <td>0.379604</td>\n",
       "      <td>0.0</td>\n",
       "      <td>0.000000</td>\n",
       "      <td>0.0</td>\n",
       "      <td>0.0</td>\n",
       "      <td>0.0</td>\n",
       "      <td>0.0</td>\n",
       "      <td>0.0</td>\n",
       "      <td>1.0</td>\n",
       "      <td>0.0</td>\n",
       "      <td>0.0</td>\n",
       "      <td>0.0</td>\n",
       "      <td>1.0</td>\n",
       "      <td>0.0</td>\n",
       "    </tr>\n",
       "    <tr>\n",
       "      <th>894</th>\n",
       "      <td>1.0</td>\n",
       "      <td>0.336089</td>\n",
       "      <td>0.000</td>\n",
       "      <td>0.000000</td>\n",
       "      <td>0.363449</td>\n",
       "      <td>0.0</td>\n",
       "      <td>0.000000</td>\n",
       "      <td>0.0</td>\n",
       "      <td>0.0</td>\n",
       "      <td>0.0</td>\n",
       "      <td>0.0</td>\n",
       "      <td>1.0</td>\n",
       "      <td>0.0</td>\n",
       "      <td>0.0</td>\n",
       "      <td>0.0</td>\n",
       "      <td>0.0</td>\n",
       "      <td>0.0</td>\n",
       "      <td>1.0</td>\n",
       "    </tr>\n",
       "    <tr>\n",
       "      <th>895</th>\n",
       "      <td>1.0</td>\n",
       "      <td>0.273456</td>\n",
       "      <td>0.125</td>\n",
       "      <td>0.111111</td>\n",
       "      <td>0.414494</td>\n",
       "      <td>1.0</td>\n",
       "      <td>0.458157</td>\n",
       "      <td>0.0</td>\n",
       "      <td>0.0</td>\n",
       "      <td>0.0</td>\n",
       "      <td>0.0</td>\n",
       "      <td>0.0</td>\n",
       "      <td>0.0</td>\n",
       "      <td>1.0</td>\n",
       "      <td>0.0</td>\n",
       "      <td>0.0</td>\n",
       "      <td>0.0</td>\n",
       "      <td>1.0</td>\n",
       "    </tr>\n",
       "    <tr>\n",
       "      <th>...</th>\n",
       "      <td>...</td>\n",
       "      <td>...</td>\n",
       "      <td>...</td>\n",
       "      <td>...</td>\n",
       "      <td>...</td>\n",
       "      <td>...</td>\n",
       "      <td>...</td>\n",
       "      <td>...</td>\n",
       "      <td>...</td>\n",
       "      <td>...</td>\n",
       "      <td>...</td>\n",
       "      <td>...</td>\n",
       "      <td>...</td>\n",
       "      <td>...</td>\n",
       "      <td>...</td>\n",
       "      <td>...</td>\n",
       "      <td>...</td>\n",
       "      <td>...</td>\n",
       "    </tr>\n",
       "    <tr>\n",
       "      <th>1304</th>\n",
       "      <td>1.0</td>\n",
       "      <td>0.372180</td>\n",
       "      <td>0.000</td>\n",
       "      <td>0.000000</td>\n",
       "      <td>0.352955</td>\n",
       "      <td>0.0</td>\n",
       "      <td>0.000000</td>\n",
       "      <td>0.0</td>\n",
       "      <td>0.0</td>\n",
       "      <td>0.0</td>\n",
       "      <td>0.0</td>\n",
       "      <td>1.0</td>\n",
       "      <td>0.0</td>\n",
       "      <td>0.0</td>\n",
       "      <td>0.0</td>\n",
       "      <td>0.0</td>\n",
       "      <td>0.0</td>\n",
       "      <td>1.0</td>\n",
       "    </tr>\n",
       "    <tr>\n",
       "      <th>1305</th>\n",
       "      <td>0.0</td>\n",
       "      <td>0.486409</td>\n",
       "      <td>0.000</td>\n",
       "      <td>0.000000</td>\n",
       "      <td>0.753026</td>\n",
       "      <td>1.0</td>\n",
       "      <td>0.000000</td>\n",
       "      <td>0.0</td>\n",
       "      <td>0.0</td>\n",
       "      <td>1.0</td>\n",
       "      <td>0.0</td>\n",
       "      <td>0.0</td>\n",
       "      <td>0.0</td>\n",
       "      <td>0.0</td>\n",
       "      <td>0.0</td>\n",
       "      <td>1.0</td>\n",
       "      <td>0.0</td>\n",
       "      <td>0.0</td>\n",
       "    </tr>\n",
       "    <tr>\n",
       "      <th>1306</th>\n",
       "      <td>1.0</td>\n",
       "      <td>0.480145</td>\n",
       "      <td>0.000</td>\n",
       "      <td>0.000000</td>\n",
       "      <td>0.338125</td>\n",
       "      <td>0.0</td>\n",
       "      <td>0.000000</td>\n",
       "      <td>0.0</td>\n",
       "      <td>0.0</td>\n",
       "      <td>0.0</td>\n",
       "      <td>0.0</td>\n",
       "      <td>0.0</td>\n",
       "      <td>1.0</td>\n",
       "      <td>0.0</td>\n",
       "      <td>0.0</td>\n",
       "      <td>0.0</td>\n",
       "      <td>0.0</td>\n",
       "      <td>1.0</td>\n",
       "    </tr>\n",
       "    <tr>\n",
       "      <th>1307</th>\n",
       "      <td>1.0</td>\n",
       "      <td>0.372180</td>\n",
       "      <td>0.000</td>\n",
       "      <td>0.000000</td>\n",
       "      <td>0.352955</td>\n",
       "      <td>0.0</td>\n",
       "      <td>0.000000</td>\n",
       "      <td>0.0</td>\n",
       "      <td>0.0</td>\n",
       "      <td>0.0</td>\n",
       "      <td>0.0</td>\n",
       "      <td>1.0</td>\n",
       "      <td>0.0</td>\n",
       "      <td>0.0</td>\n",
       "      <td>0.0</td>\n",
       "      <td>0.0</td>\n",
       "      <td>0.0</td>\n",
       "      <td>1.0</td>\n",
       "    </tr>\n",
       "    <tr>\n",
       "      <th>1308</th>\n",
       "      <td>1.0</td>\n",
       "      <td>0.372180</td>\n",
       "      <td>0.125</td>\n",
       "      <td>0.111111</td>\n",
       "      <td>0.504886</td>\n",
       "      <td>0.0</td>\n",
       "      <td>0.458157</td>\n",
       "      <td>0.0</td>\n",
       "      <td>0.0</td>\n",
       "      <td>0.0</td>\n",
       "      <td>0.0</td>\n",
       "      <td>0.0</td>\n",
       "      <td>1.0</td>\n",
       "      <td>0.0</td>\n",
       "      <td>0.0</td>\n",
       "      <td>1.0</td>\n",
       "      <td>0.0</td>\n",
       "      <td>0.0</td>\n",
       "    </tr>\n",
       "  </tbody>\n",
       "</table>\n",
       "<p>418 rows × 18 columns</p>\n",
       "</div>"
      ],
      "text/plain": [
       "      Pclass       Age  SibSp     Parch      Fare  gender    Family  Cabin_A  \\\n",
       "891      1.0  0.430039  0.000  0.000000  0.348997     0.0  0.000000      0.0   \n",
       "892      1.0  0.586622  0.125  0.000000  0.333195     1.0  0.289065      0.0   \n",
       "893      0.5  0.774521  0.000  0.000000  0.379604     0.0  0.000000      0.0   \n",
       "894      1.0  0.336089  0.000  0.000000  0.363449     0.0  0.000000      0.0   \n",
       "895      1.0  0.273456  0.125  0.111111  0.414494     1.0  0.458157      0.0   \n",
       "...      ...       ...    ...       ...       ...     ...       ...      ...   \n",
       "1304     1.0  0.372180  0.000  0.000000  0.352955     0.0  0.000000      0.0   \n",
       "1305     0.0  0.486409  0.000  0.000000  0.753026     1.0  0.000000      0.0   \n",
       "1306     1.0  0.480145  0.000  0.000000  0.338125     0.0  0.000000      0.0   \n",
       "1307     1.0  0.372180  0.000  0.000000  0.352955     0.0  0.000000      0.0   \n",
       "1308     1.0  0.372180  0.125  0.111111  0.504886     0.0  0.458157      0.0   \n",
       "\n",
       "      Cabin_B  Cabin_C  Cabin_D  Cabin_E  Cabin_F  Cabin_G  Cabin_T  \\\n",
       "891       0.0      0.0      0.0      0.0      1.0      0.0      0.0   \n",
       "892       0.0      0.0      0.0      0.0      0.0      1.0      0.0   \n",
       "893       0.0      0.0      0.0      0.0      1.0      0.0      0.0   \n",
       "894       0.0      0.0      0.0      1.0      0.0      0.0      0.0   \n",
       "895       0.0      0.0      0.0      0.0      0.0      1.0      0.0   \n",
       "...       ...      ...      ...      ...      ...      ...      ...   \n",
       "1304      0.0      0.0      0.0      1.0      0.0      0.0      0.0   \n",
       "1305      0.0      1.0      0.0      0.0      0.0      0.0      0.0   \n",
       "1306      0.0      0.0      0.0      0.0      1.0      0.0      0.0   \n",
       "1307      0.0      0.0      0.0      1.0      0.0      0.0      0.0   \n",
       "1308      0.0      0.0      0.0      0.0      1.0      0.0      0.0   \n",
       "\n",
       "      Embarked_C  Embarked_Q  Embarked_S  \n",
       "891          0.0         1.0         0.0  \n",
       "892          0.0         0.0         1.0  \n",
       "893          0.0         1.0         0.0  \n",
       "894          0.0         0.0         1.0  \n",
       "895          0.0         0.0         1.0  \n",
       "...          ...         ...         ...  \n",
       "1304         0.0         0.0         1.0  \n",
       "1305         1.0         0.0         0.0  \n",
       "1306         0.0         0.0         1.0  \n",
       "1307         0.0         0.0         1.0  \n",
       "1308         1.0         0.0         0.0  \n",
       "\n",
       "[418 rows x 18 columns]"
      ]
     },
     "execution_count": 45,
     "metadata": {},
     "output_type": "execute_result"
    }
   ],
   "source": [
    "df_test"
   ]
  },
  {
   "cell_type": "code",
   "execution_count": 46,
   "id": "9532748b",
   "metadata": {
    "execution": {
     "iopub.execute_input": "2023-02-24T11:48:55.428798Z",
     "iopub.status.busy": "2023-02-24T11:48:55.428252Z",
     "iopub.status.idle": "2023-02-24T11:48:55.436576Z",
     "shell.execute_reply": "2023-02-24T11:48:55.435145Z"
    },
    "papermill": {
     "duration": 0.045251,
     "end_time": "2023-02-24T11:48:55.441728",
     "exception": false,
     "start_time": "2023-02-24T11:48:55.396477",
     "status": "completed"
    },
    "tags": []
   },
   "outputs": [
    {
     "data": {
      "text/plain": [
       "Index(['Survived', 'Pclass', 'Age', 'SibSp', 'Parch', 'Fare', 'gender',\n",
       "       'Family', 'Cabin_A', 'Cabin_B', 'Cabin_C', 'Cabin_D', 'Cabin_E',\n",
       "       'Cabin_F', 'Cabin_G', 'Cabin_T', 'Embarked_C', 'Embarked_Q',\n",
       "       'Embarked_S'],\n",
       "      dtype='object')"
      ]
     },
     "execution_count": 46,
     "metadata": {},
     "output_type": "execute_result"
    }
   ],
   "source": [
    "df_train.columns"
   ]
  },
  {
   "cell_type": "code",
   "execution_count": 47,
   "id": "60831779",
   "metadata": {
    "execution": {
     "iopub.execute_input": "2023-02-24T11:48:55.501805Z",
     "iopub.status.busy": "2023-02-24T11:48:55.501253Z",
     "iopub.status.idle": "2023-02-24T11:48:55.508222Z",
     "shell.execute_reply": "2023-02-24T11:48:55.507270Z"
    },
    "papermill": {
     "duration": 0.037959,
     "end_time": "2023-02-24T11:48:55.510497",
     "exception": false,
     "start_time": "2023-02-24T11:48:55.472538",
     "status": "completed"
    },
    "tags": []
   },
   "outputs": [],
   "source": [
    "features = df_train[['Pclass', 'Age', 'SibSp', 'Parch', 'Fare', 'gender',\n",
    "       'Family', 'Cabin_A', 'Cabin_B', 'Cabin_C', 'Cabin_D', 'Cabin_E',\n",
    "       'Cabin_F', 'Cabin_G', 'Cabin_T', 'Embarked_C', 'Embarked_Q',\n",
    "       'Embarked_S']]\n",
    "target = df_train['Survived']"
   ]
  },
  {
   "cell_type": "code",
   "execution_count": 48,
   "id": "178d4518",
   "metadata": {
    "execution": {
     "iopub.execute_input": "2023-02-24T11:48:55.564067Z",
     "iopub.status.busy": "2023-02-24T11:48:55.563208Z",
     "iopub.status.idle": "2023-02-24T11:48:55.570864Z",
     "shell.execute_reply": "2023-02-24T11:48:55.569949Z"
    },
    "papermill": {
     "duration": 0.036498,
     "end_time": "2023-02-24T11:48:55.572901",
     "exception": false,
     "start_time": "2023-02-24T11:48:55.536403",
     "status": "completed"
    },
    "tags": []
   },
   "outputs": [],
   "source": [
    "from sklearn.model_selection import train_test_split\n",
    "\n",
    "X_train, X_test, y_train, y_test = train_test_split(features, target, random_state=16)"
   ]
  },
  {
   "cell_type": "code",
   "execution_count": 49,
   "id": "9e2235e1",
   "metadata": {
    "execution": {
     "iopub.execute_input": "2023-02-24T11:48:55.626220Z",
     "iopub.status.busy": "2023-02-24T11:48:55.625356Z",
     "iopub.status.idle": "2023-02-24T11:48:57.159962Z",
     "shell.execute_reply": "2023-02-24T11:48:57.157402Z"
    },
    "papermill": {
     "duration": 1.564821,
     "end_time": "2023-02-24T11:48:57.163474",
     "exception": false,
     "start_time": "2023-02-24T11:48:55.598653",
     "status": "completed"
    },
    "tags": []
   },
   "outputs": [
    {
     "data": {
      "text/html": [
       "<style type='text/css'>\n",
       ".datatable table.frame { margin-bottom: 0; }\n",
       ".datatable table.frame thead { border-bottom: none; }\n",
       ".datatable table.frame tr.coltypes td {  color: #FFFFFF;  line-height: 6px;  padding: 0 0.5em;}\n",
       ".datatable .bool    { background: #DDDD99; }\n",
       ".datatable .object  { background: #565656; }\n",
       ".datatable .int     { background: #5D9E5D; }\n",
       ".datatable .float   { background: #4040CC; }\n",
       ".datatable .str     { background: #CC4040; }\n",
       ".datatable .time    { background: #40CC40; }\n",
       ".datatable .row_index {  background: var(--jp-border-color3);  border-right: 1px solid var(--jp-border-color0);  color: var(--jp-ui-font-color3);  font-size: 9px;}\n",
       ".datatable .frame tbody td { text-align: left; }\n",
       ".datatable .frame tr.coltypes .row_index {  background: var(--jp-border-color0);}\n",
       ".datatable th:nth-child(2) { padding-left: 12px; }\n",
       ".datatable .hellipsis {  color: var(--jp-cell-editor-border-color);}\n",
       ".datatable .vellipsis {  background: var(--jp-layout-color0);  color: var(--jp-cell-editor-border-color);}\n",
       ".datatable .na {  color: var(--jp-cell-editor-border-color);  font-size: 80%;}\n",
       ".datatable .sp {  opacity: 0.25;}\n",
       ".datatable .footer { font-size: 9px; }\n",
       ".datatable .frame_dimensions {  background: var(--jp-border-color3);  border-top: 1px solid var(--jp-border-color0);  color: var(--jp-ui-font-color3);  display: inline-block;  opacity: 0.6;  padding: 1px 10px 1px 5px;}\n",
       "</style>\n"
      ],
      "text/plain": [
       "<IPython.core.display.HTML object>"
      ]
     },
     "metadata": {},
     "output_type": "display_data"
    },
    {
     "name": "stdout",
     "output_type": "stream",
     "text": [
      "[1]\tvalid_0's binary_logloss: 0.630623\n",
      "[2]\tvalid_0's binary_logloss: 0.600516\n",
      "[3]\tvalid_0's binary_logloss: 0.576057\n",
      "[4]\tvalid_0's binary_logloss: 0.55693\n",
      "[5]\tvalid_0's binary_logloss: 0.5407\n",
      "[6]\tvalid_0's binary_logloss: 0.526173\n",
      "[7]\tvalid_0's binary_logloss: 0.51556\n",
      "[8]\tvalid_0's binary_logloss: 0.506197\n",
      "[9]\tvalid_0's binary_logloss: 0.496778\n",
      "[10]\tvalid_0's binary_logloss: 0.489273\n",
      "[11]\tvalid_0's binary_logloss: 0.48536\n",
      "[12]\tvalid_0's binary_logloss: 0.481663\n",
      "[13]\tvalid_0's binary_logloss: 0.478311\n",
      "[14]\tvalid_0's binary_logloss: 0.474303\n",
      "[15]\tvalid_0's binary_logloss: 0.468905\n",
      "[16]\tvalid_0's binary_logloss: 0.465047\n",
      "[17]\tvalid_0's binary_logloss: 0.465095\n",
      "[18]\tvalid_0's binary_logloss: 0.462368\n",
      "[19]\tvalid_0's binary_logloss: 0.45937\n",
      "[20]\tvalid_0's binary_logloss: 0.460108\n",
      "[21]\tvalid_0's binary_logloss: 0.461176\n",
      "[22]\tvalid_0's binary_logloss: 0.459208\n",
      "[23]\tvalid_0's binary_logloss: 0.457887\n",
      "[24]\tvalid_0's binary_logloss: 0.457943\n",
      "[25]\tvalid_0's binary_logloss: 0.45475\n",
      "[26]\tvalid_0's binary_logloss: 0.453976\n",
      "[27]\tvalid_0's binary_logloss: 0.452487\n",
      "[28]\tvalid_0's binary_logloss: 0.452682\n",
      "[29]\tvalid_0's binary_logloss: 0.453531\n",
      "[30]\tvalid_0's binary_logloss: 0.453886\n",
      "[31]\tvalid_0's binary_logloss: 0.454026\n",
      "[32]\tvalid_0's binary_logloss: 0.454408\n",
      "[33]\tvalid_0's binary_logloss: 0.457095\n",
      "[34]\tvalid_0's binary_logloss: 0.459249\n",
      "[35]\tvalid_0's binary_logloss: 0.460526\n",
      "[36]\tvalid_0's binary_logloss: 0.46175\n",
      "[37]\tvalid_0's binary_logloss: 0.461882\n",
      "[38]\tvalid_0's binary_logloss: 0.462999\n",
      "[39]\tvalid_0's binary_logloss: 0.463766\n",
      "[40]\tvalid_0's binary_logloss: 0.462935\n",
      "[41]\tvalid_0's binary_logloss: 0.463616\n",
      "[42]\tvalid_0's binary_logloss: 0.465375\n",
      "[43]\tvalid_0's binary_logloss: 0.467273\n",
      "[44]\tvalid_0's binary_logloss: 0.469268\n",
      "[45]\tvalid_0's binary_logloss: 0.469725\n",
      "[46]\tvalid_0's binary_logloss: 0.471717\n",
      "[47]\tvalid_0's binary_logloss: 0.47147\n",
      "[48]\tvalid_0's binary_logloss: 0.474323\n",
      "[49]\tvalid_0's binary_logloss: 0.475207\n",
      "[50]\tvalid_0's binary_logloss: 0.478147\n",
      "[51]\tvalid_0's binary_logloss: 0.478141\n",
      "[52]\tvalid_0's binary_logloss: 0.479027\n",
      "[53]\tvalid_0's binary_logloss: 0.478464\n",
      "[54]\tvalid_0's binary_logloss: 0.479058\n",
      "[55]\tvalid_0's binary_logloss: 0.480844\n",
      "[56]\tvalid_0's binary_logloss: 0.480881\n",
      "[57]\tvalid_0's binary_logloss: 0.482345\n",
      "[58]\tvalid_0's binary_logloss: 0.483097\n",
      "[59]\tvalid_0's binary_logloss: 0.484107\n",
      "[60]\tvalid_0's binary_logloss: 0.486839\n",
      "[61]\tvalid_0's binary_logloss: 0.485844\n",
      "[62]\tvalid_0's binary_logloss: 0.487036\n",
      "[63]\tvalid_0's binary_logloss: 0.488863\n",
      "[64]\tvalid_0's binary_logloss: 0.488958\n",
      "[65]\tvalid_0's binary_logloss: 0.490781\n",
      "[66]\tvalid_0's binary_logloss: 0.493898\n",
      "[67]\tvalid_0's binary_logloss: 0.493846\n",
      "[68]\tvalid_0's binary_logloss: 0.496439\n",
      "[69]\tvalid_0's binary_logloss: 0.498321\n",
      "[70]\tvalid_0's binary_logloss: 0.498806\n",
      "[71]\tvalid_0's binary_logloss: 0.49944\n",
      "[72]\tvalid_0's binary_logloss: 0.500591\n",
      "[73]\tvalid_0's binary_logloss: 0.502823\n",
      "[74]\tvalid_0's binary_logloss: 0.504058\n",
      "[75]\tvalid_0's binary_logloss: 0.506446\n",
      "[76]\tvalid_0's binary_logloss: 0.507127\n",
      "[77]\tvalid_0's binary_logloss: 0.50857\n",
      "[78]\tvalid_0's binary_logloss: 0.508743\n",
      "[79]\tvalid_0's binary_logloss: 0.50917\n",
      "[80]\tvalid_0's binary_logloss: 0.510168\n",
      "[81]\tvalid_0's binary_logloss: 0.510308\n",
      "[82]\tvalid_0's binary_logloss: 0.510213\n",
      "[83]\tvalid_0's binary_logloss: 0.5116\n",
      "[84]\tvalid_0's binary_logloss: 0.512003\n",
      "[85]\tvalid_0's binary_logloss: 0.514644\n",
      "[86]\tvalid_0's binary_logloss: 0.514276\n",
      "[87]\tvalid_0's binary_logloss: 0.51706\n",
      "[88]\tvalid_0's binary_logloss: 0.518794\n",
      "[89]\tvalid_0's binary_logloss: 0.519889\n",
      "[90]\tvalid_0's binary_logloss: 0.520902\n",
      "[91]\tvalid_0's binary_logloss: 0.522278\n",
      "[92]\tvalid_0's binary_logloss: 0.523058\n",
      "[93]\tvalid_0's binary_logloss: 0.525508\n",
      "[94]\tvalid_0's binary_logloss: 0.528057\n",
      "[95]\tvalid_0's binary_logloss: 0.530737\n",
      "[96]\tvalid_0's binary_logloss: 0.531362\n",
      "[97]\tvalid_0's binary_logloss: 0.533185\n",
      "[98]\tvalid_0's binary_logloss: 0.535516\n",
      "[99]\tvalid_0's binary_logloss: 0.537293\n",
      "[100]\tvalid_0's binary_logloss: 0.5397\n",
      "[101]\tvalid_0's binary_logloss: 0.543225\n",
      "[102]\tvalid_0's binary_logloss: 0.542158\n",
      "[103]\tvalid_0's binary_logloss: 0.543298\n",
      "[104]\tvalid_0's binary_logloss: 0.546006\n",
      "[105]\tvalid_0's binary_logloss: 0.547381\n",
      "[106]\tvalid_0's binary_logloss: 0.549854\n",
      "[107]\tvalid_0's binary_logloss: 0.550957\n",
      "[108]\tvalid_0's binary_logloss: 0.551778\n",
      "[109]\tvalid_0's binary_logloss: 0.552845\n",
      "[110]\tvalid_0's binary_logloss: 0.555\n",
      "[111]\tvalid_0's binary_logloss: 0.556098\n",
      "[112]\tvalid_0's binary_logloss: 0.557118\n",
      "[113]\tvalid_0's binary_logloss: 0.558984\n",
      "[114]\tvalid_0's binary_logloss: 0.562638\n",
      "[115]\tvalid_0's binary_logloss: 0.564953\n",
      "[116]\tvalid_0's binary_logloss: 0.56667\n",
      "[117]\tvalid_0's binary_logloss: 0.568583\n",
      "[118]\tvalid_0's binary_logloss: 0.571299\n",
      "[119]\tvalid_0's binary_logloss: 0.571409\n",
      "[120]\tvalid_0's binary_logloss: 0.574743\n",
      "[121]\tvalid_0's binary_logloss: 0.575553\n",
      "[122]\tvalid_0's binary_logloss: 0.57692\n",
      "[123]\tvalid_0's binary_logloss: 0.577761\n",
      "[124]\tvalid_0's binary_logloss: 0.578482\n",
      "[125]\tvalid_0's binary_logloss: 0.581923\n",
      "[126]\tvalid_0's binary_logloss: 0.583287\n",
      "[127]\tvalid_0's binary_logloss: 0.584823\n",
      "0.8026905829596412\n"
     ]
    },
    {
     "name": "stderr",
     "output_type": "stream",
     "text": [
      "/opt/conda/lib/python3.7/site-packages/lightgbm/sklearn.py:726: UserWarning: 'early_stopping_rounds' argument is deprecated and will be removed in a future release of LightGBM. Pass 'early_stopping()' callback via 'callbacks' argument instead.\n",
      "  _log_warning(\"'early_stopping_rounds' argument is deprecated and will be removed in a future release of LightGBM. \"\n",
      "/opt/conda/lib/python3.7/site-packages/lightgbm/sklearn.py:736: UserWarning: 'verbose' argument is deprecated and will be removed in a future release of LightGBM. Pass 'log_evaluation()' callback via 'callbacks' argument instead.\n",
      "  _log_warning(\"'verbose' argument is deprecated and will be removed in a future release of LightGBM. \"\n"
     ]
    }
   ],
   "source": [
    "from lightgbm import LGBMClassifier\n",
    "\n",
    "lgbm_clf = LGBMClassifier(n_estimators=400)\n",
    "evals = [(X_test, y_test)]\n",
    "lgbm_clf.fit(X_train, y_train, early_stopping_rounds=100, eval_metric='logloss', eval_set=evals, verbose=True)\n",
    "y_pred = lgbm_clf.predict(X_test)\n",
    "print(accuracy_score(y_test, y_pred))"
   ]
  },
  {
   "cell_type": "code",
   "execution_count": 50,
   "id": "3607329b",
   "metadata": {
    "execution": {
     "iopub.execute_input": "2023-02-24T11:48:57.202428Z",
     "iopub.status.busy": "2023-02-24T11:48:57.202120Z",
     "iopub.status.idle": "2023-02-24T11:48:58.522355Z",
     "shell.execute_reply": "2023-02-24T11:48:58.521501Z"
    },
    "papermill": {
     "duration": 1.341304,
     "end_time": "2023-02-24T11:48:58.524674",
     "exception": false,
     "start_time": "2023-02-24T11:48:57.183370",
     "status": "completed"
    },
    "tags": []
   },
   "outputs": [
    {
     "name": "stdout",
     "output_type": "stream",
     "text": [
      "[0.76536313 0.79775281 0.83146067 0.78651685 0.8258427 ]\n",
      "0.8013872324398971\n"
     ]
    }
   ],
   "source": [
    "from sklearn.model_selection import cross_val_score\n",
    "\n",
    "scores = cross_val_score(lgbm_clf, features, target, scoring='accuracy', cv=5)\n",
    "print(scores)\n",
    "print(np.mean(scores))"
   ]
  },
  {
   "cell_type": "code",
   "execution_count": 51,
   "id": "2105f6b5",
   "metadata": {
    "execution": {
     "iopub.execute_input": "2023-02-24T11:48:58.563805Z",
     "iopub.status.busy": "2023-02-24T11:48:58.563497Z",
     "iopub.status.idle": "2023-02-24T11:49:09.844267Z",
     "shell.execute_reply": "2023-02-24T11:49:09.843544Z"
    },
    "papermill": {
     "duration": 11.301705,
     "end_time": "2023-02-24T11:49:09.846337",
     "exception": false,
     "start_time": "2023-02-24T11:48:58.544632",
     "status": "completed"
    },
    "tags": []
   },
   "outputs": [
    {
     "name": "stdout",
     "output_type": "stream",
     "text": [
      "최적의 파라메터 : {'max_depth': 80, 'min_child_samples': 40, 'num_leaves': 16} / 최적 성능(accuracy) : 0.8215617349821104\n"
     ]
    },
    {
     "data": {
      "text/html": [
       "<div>\n",
       "<style scoped>\n",
       "    .dataframe tbody tr th:only-of-type {\n",
       "        vertical-align: middle;\n",
       "    }\n",
       "\n",
       "    .dataframe tbody tr th {\n",
       "        vertical-align: top;\n",
       "    }\n",
       "\n",
       "    .dataframe thead th {\n",
       "        text-align: right;\n",
       "    }\n",
       "</style>\n",
       "<table border=\"1\" class=\"dataframe\">\n",
       "  <thead>\n",
       "    <tr style=\"text-align: right;\">\n",
       "      <th></th>\n",
       "      <th>mean_fit_time</th>\n",
       "      <th>std_fit_time</th>\n",
       "      <th>mean_score_time</th>\n",
       "      <th>std_score_time</th>\n",
       "      <th>param_max_depth</th>\n",
       "      <th>param_min_child_samples</th>\n",
       "      <th>param_num_leaves</th>\n",
       "      <th>params</th>\n",
       "      <th>split0_test_score</th>\n",
       "      <th>split1_test_score</th>\n",
       "      <th>split2_test_score</th>\n",
       "      <th>split3_test_score</th>\n",
       "      <th>split4_test_score</th>\n",
       "      <th>mean_test_score</th>\n",
       "      <th>std_test_score</th>\n",
       "      <th>rank_test_score</th>\n",
       "    </tr>\n",
       "  </thead>\n",
       "  <tbody>\n",
       "    <tr>\n",
       "      <th>0</th>\n",
       "      <td>0.147750</td>\n",
       "      <td>0.001687</td>\n",
       "      <td>0.005111</td>\n",
       "      <td>0.000127</td>\n",
       "      <td>80</td>\n",
       "      <td>20</td>\n",
       "      <td>16</td>\n",
       "      <td>{'max_depth': 80, 'min_child_samples': 20, 'nu...</td>\n",
       "      <td>0.765363</td>\n",
       "      <td>0.786517</td>\n",
       "      <td>0.831461</td>\n",
       "      <td>0.803371</td>\n",
       "      <td>0.842697</td>\n",
       "      <td>0.805882</td>\n",
       "      <td>0.028400</td>\n",
       "      <td>7</td>\n",
       "    </tr>\n",
       "    <tr>\n",
       "      <th>1</th>\n",
       "      <td>0.253932</td>\n",
       "      <td>0.006160</td>\n",
       "      <td>0.006181</td>\n",
       "      <td>0.000158</td>\n",
       "      <td>80</td>\n",
       "      <td>20</td>\n",
       "      <td>32</td>\n",
       "      <td>{'max_depth': 80, 'min_child_samples': 20, 'nu...</td>\n",
       "      <td>0.743017</td>\n",
       "      <td>0.786517</td>\n",
       "      <td>0.837079</td>\n",
       "      <td>0.792135</td>\n",
       "      <td>0.814607</td>\n",
       "      <td>0.794671</td>\n",
       "      <td>0.031423</td>\n",
       "      <td>10</td>\n",
       "    </tr>\n",
       "    <tr>\n",
       "      <th>2</th>\n",
       "      <td>0.129026</td>\n",
       "      <td>0.002473</td>\n",
       "      <td>0.004967</td>\n",
       "      <td>0.000224</td>\n",
       "      <td>80</td>\n",
       "      <td>40</td>\n",
       "      <td>16</td>\n",
       "      <td>{'max_depth': 80, 'min_child_samples': 40, 'nu...</td>\n",
       "      <td>0.810056</td>\n",
       "      <td>0.814607</td>\n",
       "      <td>0.848315</td>\n",
       "      <td>0.792135</td>\n",
       "      <td>0.842697</td>\n",
       "      <td>0.821562</td>\n",
       "      <td>0.021020</td>\n",
       "      <td>1</td>\n",
       "    </tr>\n",
       "    <tr>\n",
       "      <th>3</th>\n",
       "      <td>0.127823</td>\n",
       "      <td>0.001901</td>\n",
       "      <td>0.004849</td>\n",
       "      <td>0.000180</td>\n",
       "      <td>80</td>\n",
       "      <td>40</td>\n",
       "      <td>32</td>\n",
       "      <td>{'max_depth': 80, 'min_child_samples': 40, 'nu...</td>\n",
       "      <td>0.815642</td>\n",
       "      <td>0.814607</td>\n",
       "      <td>0.842697</td>\n",
       "      <td>0.792135</td>\n",
       "      <td>0.842697</td>\n",
       "      <td>0.821555</td>\n",
       "      <td>0.019197</td>\n",
       "      <td>4</td>\n",
       "    </tr>\n",
       "    <tr>\n",
       "      <th>4</th>\n",
       "      <td>0.151032</td>\n",
       "      <td>0.003956</td>\n",
       "      <td>0.005328</td>\n",
       "      <td>0.000128</td>\n",
       "      <td>90</td>\n",
       "      <td>20</td>\n",
       "      <td>16</td>\n",
       "      <td>{'max_depth': 90, 'min_child_samples': 20, 'nu...</td>\n",
       "      <td>0.765363</td>\n",
       "      <td>0.786517</td>\n",
       "      <td>0.831461</td>\n",
       "      <td>0.803371</td>\n",
       "      <td>0.842697</td>\n",
       "      <td>0.805882</td>\n",
       "      <td>0.028400</td>\n",
       "      <td>7</td>\n",
       "    </tr>\n",
       "    <tr>\n",
       "      <th>5</th>\n",
       "      <td>0.281346</td>\n",
       "      <td>0.017431</td>\n",
       "      <td>0.006454</td>\n",
       "      <td>0.000277</td>\n",
       "      <td>90</td>\n",
       "      <td>20</td>\n",
       "      <td>32</td>\n",
       "      <td>{'max_depth': 90, 'min_child_samples': 20, 'nu...</td>\n",
       "      <td>0.743017</td>\n",
       "      <td>0.786517</td>\n",
       "      <td>0.837079</td>\n",
       "      <td>0.792135</td>\n",
       "      <td>0.814607</td>\n",
       "      <td>0.794671</td>\n",
       "      <td>0.031423</td>\n",
       "      <td>10</td>\n",
       "    </tr>\n",
       "    <tr>\n",
       "      <th>6</th>\n",
       "      <td>0.134506</td>\n",
       "      <td>0.005393</td>\n",
       "      <td>0.005185</td>\n",
       "      <td>0.000111</td>\n",
       "      <td>90</td>\n",
       "      <td>40</td>\n",
       "      <td>16</td>\n",
       "      <td>{'max_depth': 90, 'min_child_samples': 40, 'nu...</td>\n",
       "      <td>0.810056</td>\n",
       "      <td>0.814607</td>\n",
       "      <td>0.848315</td>\n",
       "      <td>0.792135</td>\n",
       "      <td>0.842697</td>\n",
       "      <td>0.821562</td>\n",
       "      <td>0.021020</td>\n",
       "      <td>1</td>\n",
       "    </tr>\n",
       "    <tr>\n",
       "      <th>7</th>\n",
       "      <td>0.140887</td>\n",
       "      <td>0.005700</td>\n",
       "      <td>0.005258</td>\n",
       "      <td>0.000132</td>\n",
       "      <td>90</td>\n",
       "      <td>40</td>\n",
       "      <td>32</td>\n",
       "      <td>{'max_depth': 90, 'min_child_samples': 40, 'nu...</td>\n",
       "      <td>0.815642</td>\n",
       "      <td>0.814607</td>\n",
       "      <td>0.842697</td>\n",
       "      <td>0.792135</td>\n",
       "      <td>0.842697</td>\n",
       "      <td>0.821555</td>\n",
       "      <td>0.019197</td>\n",
       "      <td>4</td>\n",
       "    </tr>\n",
       "    <tr>\n",
       "      <th>8</th>\n",
       "      <td>0.242803</td>\n",
       "      <td>0.124739</td>\n",
       "      <td>0.005968</td>\n",
       "      <td>0.000549</td>\n",
       "      <td>96</td>\n",
       "      <td>20</td>\n",
       "      <td>16</td>\n",
       "      <td>{'max_depth': 96, 'min_child_samples': 20, 'nu...</td>\n",
       "      <td>0.765363</td>\n",
       "      <td>0.786517</td>\n",
       "      <td>0.831461</td>\n",
       "      <td>0.803371</td>\n",
       "      <td>0.842697</td>\n",
       "      <td>0.805882</td>\n",
       "      <td>0.028400</td>\n",
       "      <td>7</td>\n",
       "    </tr>\n",
       "    <tr>\n",
       "      <th>9</th>\n",
       "      <td>0.271217</td>\n",
       "      <td>0.016933</td>\n",
       "      <td>0.006264</td>\n",
       "      <td>0.000145</td>\n",
       "      <td>96</td>\n",
       "      <td>20</td>\n",
       "      <td>32</td>\n",
       "      <td>{'max_depth': 96, 'min_child_samples': 20, 'nu...</td>\n",
       "      <td>0.743017</td>\n",
       "      <td>0.786517</td>\n",
       "      <td>0.837079</td>\n",
       "      <td>0.792135</td>\n",
       "      <td>0.814607</td>\n",
       "      <td>0.794671</td>\n",
       "      <td>0.031423</td>\n",
       "      <td>10</td>\n",
       "    </tr>\n",
       "    <tr>\n",
       "      <th>10</th>\n",
       "      <td>0.130597</td>\n",
       "      <td>0.001659</td>\n",
       "      <td>0.005080</td>\n",
       "      <td>0.000128</td>\n",
       "      <td>96</td>\n",
       "      <td>40</td>\n",
       "      <td>16</td>\n",
       "      <td>{'max_depth': 96, 'min_child_samples': 40, 'nu...</td>\n",
       "      <td>0.810056</td>\n",
       "      <td>0.814607</td>\n",
       "      <td>0.848315</td>\n",
       "      <td>0.792135</td>\n",
       "      <td>0.842697</td>\n",
       "      <td>0.821562</td>\n",
       "      <td>0.021020</td>\n",
       "      <td>1</td>\n",
       "    </tr>\n",
       "    <tr>\n",
       "      <th>11</th>\n",
       "      <td>0.130998</td>\n",
       "      <td>0.002749</td>\n",
       "      <td>0.005085</td>\n",
       "      <td>0.000156</td>\n",
       "      <td>96</td>\n",
       "      <td>40</td>\n",
       "      <td>32</td>\n",
       "      <td>{'max_depth': 96, 'min_child_samples': 40, 'nu...</td>\n",
       "      <td>0.815642</td>\n",
       "      <td>0.814607</td>\n",
       "      <td>0.842697</td>\n",
       "      <td>0.792135</td>\n",
       "      <td>0.842697</td>\n",
       "      <td>0.821555</td>\n",
       "      <td>0.019197</td>\n",
       "      <td>4</td>\n",
       "    </tr>\n",
       "  </tbody>\n",
       "</table>\n",
       "</div>"
      ],
      "text/plain": [
       "    mean_fit_time  std_fit_time  mean_score_time  std_score_time  \\\n",
       "0        0.147750      0.001687         0.005111        0.000127   \n",
       "1        0.253932      0.006160         0.006181        0.000158   \n",
       "2        0.129026      0.002473         0.004967        0.000224   \n",
       "3        0.127823      0.001901         0.004849        0.000180   \n",
       "4        0.151032      0.003956         0.005328        0.000128   \n",
       "5        0.281346      0.017431         0.006454        0.000277   \n",
       "6        0.134506      0.005393         0.005185        0.000111   \n",
       "7        0.140887      0.005700         0.005258        0.000132   \n",
       "8        0.242803      0.124739         0.005968        0.000549   \n",
       "9        0.271217      0.016933         0.006264        0.000145   \n",
       "10       0.130597      0.001659         0.005080        0.000128   \n",
       "11       0.130998      0.002749         0.005085        0.000156   \n",
       "\n",
       "   param_max_depth param_min_child_samples param_num_leaves  \\\n",
       "0               80                      20               16   \n",
       "1               80                      20               32   \n",
       "2               80                      40               16   \n",
       "3               80                      40               32   \n",
       "4               90                      20               16   \n",
       "5               90                      20               32   \n",
       "6               90                      40               16   \n",
       "7               90                      40               32   \n",
       "8               96                      20               16   \n",
       "9               96                      20               32   \n",
       "10              96                      40               16   \n",
       "11              96                      40               32   \n",
       "\n",
       "                                               params  split0_test_score  \\\n",
       "0   {'max_depth': 80, 'min_child_samples': 20, 'nu...           0.765363   \n",
       "1   {'max_depth': 80, 'min_child_samples': 20, 'nu...           0.743017   \n",
       "2   {'max_depth': 80, 'min_child_samples': 40, 'nu...           0.810056   \n",
       "3   {'max_depth': 80, 'min_child_samples': 40, 'nu...           0.815642   \n",
       "4   {'max_depth': 90, 'min_child_samples': 20, 'nu...           0.765363   \n",
       "5   {'max_depth': 90, 'min_child_samples': 20, 'nu...           0.743017   \n",
       "6   {'max_depth': 90, 'min_child_samples': 40, 'nu...           0.810056   \n",
       "7   {'max_depth': 90, 'min_child_samples': 40, 'nu...           0.815642   \n",
       "8   {'max_depth': 96, 'min_child_samples': 20, 'nu...           0.765363   \n",
       "9   {'max_depth': 96, 'min_child_samples': 20, 'nu...           0.743017   \n",
       "10  {'max_depth': 96, 'min_child_samples': 40, 'nu...           0.810056   \n",
       "11  {'max_depth': 96, 'min_child_samples': 40, 'nu...           0.815642   \n",
       "\n",
       "    split1_test_score  split2_test_score  split3_test_score  \\\n",
       "0            0.786517           0.831461           0.803371   \n",
       "1            0.786517           0.837079           0.792135   \n",
       "2            0.814607           0.848315           0.792135   \n",
       "3            0.814607           0.842697           0.792135   \n",
       "4            0.786517           0.831461           0.803371   \n",
       "5            0.786517           0.837079           0.792135   \n",
       "6            0.814607           0.848315           0.792135   \n",
       "7            0.814607           0.842697           0.792135   \n",
       "8            0.786517           0.831461           0.803371   \n",
       "9            0.786517           0.837079           0.792135   \n",
       "10           0.814607           0.848315           0.792135   \n",
       "11           0.814607           0.842697           0.792135   \n",
       "\n",
       "    split4_test_score  mean_test_score  std_test_score  rank_test_score  \n",
       "0            0.842697         0.805882        0.028400                7  \n",
       "1            0.814607         0.794671        0.031423               10  \n",
       "2            0.842697         0.821562        0.021020                1  \n",
       "3            0.842697         0.821555        0.019197                4  \n",
       "4            0.842697         0.805882        0.028400                7  \n",
       "5            0.814607         0.794671        0.031423               10  \n",
       "6            0.842697         0.821562        0.021020                1  \n",
       "7            0.842697         0.821555        0.019197                4  \n",
       "8            0.842697         0.805882        0.028400                7  \n",
       "9            0.814607         0.794671        0.031423               10  \n",
       "10           0.842697         0.821562        0.021020                1  \n",
       "11           0.842697         0.821555        0.019197                4  "
      ]
     },
     "execution_count": 51,
     "metadata": {},
     "output_type": "execute_result"
    }
   ],
   "source": [
    "params = {\n",
    "    'num_leaves': [16, 32],\n",
    "    'max_depth': [80, 90, 96],\n",
    "    'min_child_samples': [20, 40]\n",
    "}\n",
    "sklearnFunction.print_best_parameter(lgbm_clf, params, features, target, score='accuracy', selection=0, cv_val=5)"
   ]
  },
  {
   "cell_type": "code",
   "execution_count": 52,
   "id": "e1a1550c",
   "metadata": {
    "execution": {
     "iopub.execute_input": "2023-02-24T11:49:09.886139Z",
     "iopub.status.busy": "2023-02-24T11:49:09.885116Z",
     "iopub.status.idle": "2023-02-24T11:49:09.950127Z",
     "shell.execute_reply": "2023-02-24T11:49:09.945316Z"
    },
    "papermill": {
     "duration": 0.08761,
     "end_time": "2023-02-24T11:49:09.952743",
     "exception": false,
     "start_time": "2023-02-24T11:49:09.865133",
     "status": "completed"
    },
    "tags": []
   },
   "outputs": [
    {
     "name": "stdout",
     "output_type": "stream",
     "text": [
      "[1]\tvalid_0's binary_logloss: 0.630993\n",
      "[2]\tvalid_0's binary_logloss: 0.602727\n",
      "[3]\tvalid_0's binary_logloss: 0.579655\n",
      "[4]\tvalid_0's binary_logloss: 0.561032\n",
      "[5]\tvalid_0's binary_logloss: 0.545894\n",
      "[6]\tvalid_0's binary_logloss: 0.532824\n",
      "[7]\tvalid_0's binary_logloss: 0.522632\n",
      "[8]\tvalid_0's binary_logloss: 0.512411\n",
      "[9]\tvalid_0's binary_logloss: 0.504475\n",
      "[10]\tvalid_0's binary_logloss: 0.498449\n",
      "[11]\tvalid_0's binary_logloss: 0.493012\n",
      "[12]\tvalid_0's binary_logloss: 0.488377\n",
      "[13]\tvalid_0's binary_logloss: 0.483581\n",
      "[14]\tvalid_0's binary_logloss: 0.479753\n",
      "[15]\tvalid_0's binary_logloss: 0.476434\n",
      "[16]\tvalid_0's binary_logloss: 0.473274\n",
      "[17]\tvalid_0's binary_logloss: 0.467337\n",
      "[18]\tvalid_0's binary_logloss: 0.461969\n",
      "[19]\tvalid_0's binary_logloss: 0.45757\n",
      "[20]\tvalid_0's binary_logloss: 0.453847\n",
      "[21]\tvalid_0's binary_logloss: 0.451871\n",
      "[22]\tvalid_0's binary_logloss: 0.450441\n",
      "[23]\tvalid_0's binary_logloss: 0.450417\n",
      "[24]\tvalid_0's binary_logloss: 0.448838\n",
      "[25]\tvalid_0's binary_logloss: 0.450137\n",
      "[26]\tvalid_0's binary_logloss: 0.450161\n",
      "[27]\tvalid_0's binary_logloss: 0.451633\n",
      "[28]\tvalid_0's binary_logloss: 0.451133\n",
      "[29]\tvalid_0's binary_logloss: 0.452215\n",
      "[30]\tvalid_0's binary_logloss: 0.450924\n",
      "[31]\tvalid_0's binary_logloss: 0.45312\n",
      "[32]\tvalid_0's binary_logloss: 0.454285\n",
      "[33]\tvalid_0's binary_logloss: 0.455979\n",
      "[34]\tvalid_0's binary_logloss: 0.457074\n",
      "[35]\tvalid_0's binary_logloss: 0.456713\n",
      "[36]\tvalid_0's binary_logloss: 0.45744\n",
      "[37]\tvalid_0's binary_logloss: 0.456808\n",
      "[38]\tvalid_0's binary_logloss: 0.458748\n",
      "[39]\tvalid_0's binary_logloss: 0.461346\n",
      "[40]\tvalid_0's binary_logloss: 0.461987\n",
      "[41]\tvalid_0's binary_logloss: 0.460466\n",
      "[42]\tvalid_0's binary_logloss: 0.46257\n",
      "[43]\tvalid_0's binary_logloss: 0.46318\n",
      "[44]\tvalid_0's binary_logloss: 0.464073\n",
      "[45]\tvalid_0's binary_logloss: 0.462385\n",
      "[46]\tvalid_0's binary_logloss: 0.462142\n",
      "[47]\tvalid_0's binary_logloss: 0.463005\n",
      "[48]\tvalid_0's binary_logloss: 0.462636\n",
      "[49]\tvalid_0's binary_logloss: 0.464315\n",
      "[50]\tvalid_0's binary_logloss: 0.46481\n",
      "[51]\tvalid_0's binary_logloss: 0.466157\n",
      "[52]\tvalid_0's binary_logloss: 0.466919\n",
      "[53]\tvalid_0's binary_logloss: 0.466035\n",
      "[54]\tvalid_0's binary_logloss: 0.46876\n",
      "[55]\tvalid_0's binary_logloss: 0.469104\n",
      "[56]\tvalid_0's binary_logloss: 0.469319\n",
      "[57]\tvalid_0's binary_logloss: 0.468481\n",
      "[58]\tvalid_0's binary_logloss: 0.469994\n",
      "[59]\tvalid_0's binary_logloss: 0.468932\n",
      "[60]\tvalid_0's binary_logloss: 0.468789\n",
      "[61]\tvalid_0's binary_logloss: 0.469549\n",
      "[62]\tvalid_0's binary_logloss: 0.469286\n",
      "[63]\tvalid_0's binary_logloss: 0.470183\n",
      "[64]\tvalid_0's binary_logloss: 0.469527\n",
      "[65]\tvalid_0's binary_logloss: 0.471225\n",
      "[66]\tvalid_0's binary_logloss: 0.472925\n",
      "[67]\tvalid_0's binary_logloss: 0.472651\n",
      "[68]\tvalid_0's binary_logloss: 0.472376\n",
      "[69]\tvalid_0's binary_logloss: 0.473652\n",
      "[70]\tvalid_0's binary_logloss: 0.473185\n",
      "[71]\tvalid_0's binary_logloss: 0.474268\n",
      "[72]\tvalid_0's binary_logloss: 0.473236\n",
      "[73]\tvalid_0's binary_logloss: 0.471677\n",
      "[74]\tvalid_0's binary_logloss: 0.473332\n",
      "[75]\tvalid_0's binary_logloss: 0.474284\n",
      "[76]\tvalid_0's binary_logloss: 0.475285\n",
      "[77]\tvalid_0's binary_logloss: 0.473294\n",
      "[78]\tvalid_0's binary_logloss: 0.473999\n",
      "[79]\tvalid_0's binary_logloss: 0.474723\n",
      "[80]\tvalid_0's binary_logloss: 0.474925\n",
      "[81]\tvalid_0's binary_logloss: 0.475826\n",
      "[82]\tvalid_0's binary_logloss: 0.475507\n",
      "[83]\tvalid_0's binary_logloss: 0.476539\n",
      "[84]\tvalid_0's binary_logloss: 0.476552\n",
      "[85]\tvalid_0's binary_logloss: 0.475883\n",
      "[86]\tvalid_0's binary_logloss: 0.477946\n",
      "[87]\tvalid_0's binary_logloss: 0.478102\n",
      "[88]\tvalid_0's binary_logloss: 0.478608\n",
      "[89]\tvalid_0's binary_logloss: 0.479401\n",
      "[90]\tvalid_0's binary_logloss: 0.479926\n",
      "[91]\tvalid_0's binary_logloss: 0.479494\n",
      "[92]\tvalid_0's binary_logloss: 0.479238\n",
      "[93]\tvalid_0's binary_logloss: 0.479093\n",
      "[94]\tvalid_0's binary_logloss: 0.478504\n",
      "[95]\tvalid_0's binary_logloss: 0.4792\n",
      "[96]\tvalid_0's binary_logloss: 0.479561\n",
      "[97]\tvalid_0's binary_logloss: 0.479096\n",
      "[98]\tvalid_0's binary_logloss: 0.479773\n",
      "[99]\tvalid_0's binary_logloss: 0.478727\n",
      "[100]\tvalid_0's binary_logloss: 0.480188\n",
      "0.8026905829596412\n",
      "[[127  10]\n",
      " [ 34  52]]\n",
      "              precision    recall  f1-score   support\n",
      "\n",
      "         0.0       0.79      0.93      0.85       137\n",
      "         1.0       0.84      0.60      0.70        86\n",
      "\n",
      "    accuracy                           0.80       223\n",
      "   macro avg       0.81      0.77      0.78       223\n",
      "weighted avg       0.81      0.80      0.79       223\n",
      "\n",
      "AUC = 0.8357664233576642\n"
     ]
    },
    {
     "name": "stderr",
     "output_type": "stream",
     "text": [
      "/opt/conda/lib/python3.7/site-packages/lightgbm/sklearn.py:726: UserWarning: 'early_stopping_rounds' argument is deprecated and will be removed in a future release of LightGBM. Pass 'early_stopping()' callback via 'callbacks' argument instead.\n",
      "  _log_warning(\"'early_stopping_rounds' argument is deprecated and will be removed in a future release of LightGBM. \"\n",
      "/opt/conda/lib/python3.7/site-packages/lightgbm/sklearn.py:736: UserWarning: 'verbose' argument is deprecated and will be removed in a future release of LightGBM. Pass 'log_evaluation()' callback via 'callbacks' argument instead.\n",
      "  _log_warning(\"'verbose' argument is deprecated and will be removed in a future release of LightGBM. \"\n"
     ]
    }
   ],
   "source": [
    "lgbm_clf_best = LGBMClassifier(n_estomators=1000, max_depth=90, min_child_samples=40, num_leaves=32)\n",
    "\n",
    "evals = [(X_test, y_test)]\n",
    "lgbm_clf_best.fit(X_train, y_train, early_stopping_rounds=100, eval_metric='logloss', eval_set=evals, verbose=True)\n",
    "y_pred = lgbm_clf_best.predict(X_test)\n",
    "print(accuracy_score(y_test, y_pred))\n",
    "sklearnFunction.show_clf_result(y_test, y_pred, lgbm_clf_best.predict_proba(X_test)[:, 1])"
   ]
  },
  {
   "cell_type": "code",
   "execution_count": 53,
   "id": "0f1b7f4e",
   "metadata": {
    "execution": {
     "iopub.execute_input": "2023-02-24T11:49:09.992725Z",
     "iopub.status.busy": "2023-02-24T11:49:09.992038Z",
     "iopub.status.idle": "2023-02-24T11:49:10.020260Z",
     "shell.execute_reply": "2023-02-24T11:49:10.019579Z"
    },
    "papermill": {
     "duration": 0.049779,
     "end_time": "2023-02-24T11:49:10.022255",
     "exception": false,
     "start_time": "2023-02-24T11:49:09.972476",
     "status": "completed"
    },
    "tags": []
   },
   "outputs": [],
   "source": [
    "y_pred = lgbm_clf_best.predict(df_test)"
   ]
  },
  {
   "cell_type": "code",
   "execution_count": 54,
   "id": "5820072c",
   "metadata": {
    "execution": {
     "iopub.execute_input": "2023-02-24T11:49:10.061436Z",
     "iopub.status.busy": "2023-02-24T11:49:10.061121Z",
     "iopub.status.idle": "2023-02-24T11:49:10.066918Z",
     "shell.execute_reply": "2023-02-24T11:49:10.065961Z"
    },
    "papermill": {
     "duration": 0.027118,
     "end_time": "2023-02-24T11:49:10.068911",
     "exception": false,
     "start_time": "2023-02-24T11:49:10.041793",
     "status": "completed"
    },
    "tags": []
   },
   "outputs": [
    {
     "data": {
      "text/plain": [
       "(418,)"
      ]
     },
     "execution_count": 54,
     "metadata": {},
     "output_type": "execute_result"
    }
   ],
   "source": [
    "y_pred.shape"
   ]
  },
  {
   "cell_type": "code",
   "execution_count": 55,
   "id": "89087d60",
   "metadata": {
    "execution": {
     "iopub.execute_input": "2023-02-24T11:49:10.108407Z",
     "iopub.status.busy": "2023-02-24T11:49:10.107612Z",
     "iopub.status.idle": "2023-02-24T11:49:10.112322Z",
     "shell.execute_reply": "2023-02-24T11:49:10.111505Z"
    },
    "papermill": {
     "duration": 0.026433,
     "end_time": "2023-02-24T11:49:10.114417",
     "exception": false,
     "start_time": "2023-02-24T11:49:10.087984",
     "status": "completed"
    },
    "tags": []
   },
   "outputs": [],
   "source": [
    " y_pred = y_pred.astype('uint64')"
   ]
  },
  {
   "cell_type": "code",
   "execution_count": 56,
   "id": "516f38d5",
   "metadata": {
    "execution": {
     "iopub.execute_input": "2023-02-24T11:49:10.157152Z",
     "iopub.status.busy": "2023-02-24T11:49:10.156868Z",
     "iopub.status.idle": "2023-02-24T11:49:10.164965Z",
     "shell.execute_reply": "2023-02-24T11:49:10.164074Z"
    },
    "papermill": {
     "duration": 0.029674,
     "end_time": "2023-02-24T11:49:10.167129",
     "exception": false,
     "start_time": "2023-02-24T11:49:10.137455",
     "status": "completed"
    },
    "tags": []
   },
   "outputs": [
    {
     "data": {
      "text/plain": [
       "array([0, 0, 0, 0, 0, 1, 1, 0, 1, 0, 0, 0, 1, 0, 1, 1, 0, 0, 0, 1, 0, 1,\n",
       "       1, 0, 1, 0, 1, 0, 0, 0, 0, 0, 0, 0, 0, 0, 0, 0, 0, 0, 0, 0, 0, 1,\n",
       "       1, 0, 0, 0, 1, 0, 0, 0, 1, 1, 0, 0, 0, 0, 0, 1, 0, 0, 0, 1, 0, 1,\n",
       "       1, 0, 0, 1, 1, 0, 0, 0, 1, 1, 0, 1, 0, 1, 1, 0, 0, 0, 0, 0, 1, 0,\n",
       "       1, 1, 0, 0, 1, 0, 0, 0, 1, 0, 0, 0, 1, 0, 0, 0, 1, 0, 0, 0, 0, 0,\n",
       "       0, 1, 1, 1, 1, 0, 0, 1, 1, 1, 1, 0, 1, 0, 0, 0, 0, 1, 0, 0, 0, 0,\n",
       "       0, 0, 0, 0, 0, 0, 0, 0, 0, 1, 0, 0, 0, 0, 0, 0, 0, 0, 1, 0, 0, 0,\n",
       "       0, 0, 1, 0, 0, 0, 1, 1, 1, 0, 0, 0, 0, 0, 1, 0, 0, 0, 0, 0, 0, 1,\n",
       "       1, 0, 1, 1, 0, 0, 1, 0, 1, 0, 1, 0, 0, 0, 0, 0, 1, 0, 1, 0, 1, 1,\n",
       "       0, 0, 1, 1, 0, 1, 0, 0, 1, 0, 1, 0, 0, 0, 0, 1, 0, 0, 1, 0, 1, 0,\n",
       "       1, 0, 1, 0, 1, 1, 0, 1, 0, 0, 1, 1, 0, 0, 0, 0, 0, 0, 1, 1, 1, 1,\n",
       "       0, 0, 0, 0, 1, 0, 1, 1, 1, 0, 0, 0, 0, 0, 0, 0, 1, 0, 0, 0, 1, 1,\n",
       "       0, 0, 0, 0, 0, 0, 0, 0, 1, 1, 0, 1, 0, 0, 0, 0, 0, 1, 1, 1, 1, 0,\n",
       "       0, 0, 0, 0, 0, 1, 0, 0, 0, 0, 1, 0, 0, 0, 0, 0, 0, 0, 1, 1, 0, 1,\n",
       "       0, 0, 0, 0, 0, 1, 1, 1, 0, 0, 0, 0, 0, 0, 0, 1, 1, 0, 1, 0, 0, 0,\n",
       "       1, 0, 0, 1, 0, 0, 0, 0, 0, 0, 0, 0, 0, 1, 0, 1, 0, 1, 0, 1, 1, 0,\n",
       "       0, 0, 1, 0, 1, 0, 0, 0, 0, 1, 1, 0, 1, 0, 0, 1, 1, 0, 0, 1, 0, 0,\n",
       "       1, 1, 0, 0, 0, 0, 0, 0, 0, 0, 0, 1, 0, 0, 0, 0, 0, 1, 1, 0, 0, 1,\n",
       "       0, 1, 0, 0, 1, 0, 1, 0, 0, 0, 0, 0, 1, 1, 1, 1, 0, 0, 1, 0, 0, 0],\n",
       "      dtype=uint64)"
      ]
     },
     "execution_count": 56,
     "metadata": {},
     "output_type": "execute_result"
    }
   ],
   "source": [
    " y_pred"
   ]
  },
  {
   "cell_type": "code",
   "execution_count": 57,
   "id": "c450cdc8",
   "metadata": {
    "execution": {
     "iopub.execute_input": "2023-02-24T11:49:10.205827Z",
     "iopub.status.busy": "2023-02-24T11:49:10.205540Z",
     "iopub.status.idle": "2023-02-24T11:49:10.221790Z",
     "shell.execute_reply": "2023-02-24T11:49:10.220961Z"
    },
    "papermill": {
     "duration": 0.038078,
     "end_time": "2023-02-24T11:49:10.223852",
     "exception": false,
     "start_time": "2023-02-24T11:49:10.185774",
     "status": "completed"
    },
    "tags": []
   },
   "outputs": [],
   "source": [
    "submit = pd.read_csv('../input/titanic/gender_submission.csv')"
   ]
  },
  {
   "cell_type": "code",
   "execution_count": 58,
   "id": "dd5756ab",
   "metadata": {
    "execution": {
     "iopub.execute_input": "2023-02-24T11:49:10.262627Z",
     "iopub.status.busy": "2023-02-24T11:49:10.262351Z",
     "iopub.status.idle": "2023-02-24T11:49:10.269354Z",
     "shell.execute_reply": "2023-02-24T11:49:10.268459Z"
    },
    "papermill": {
     "duration": 0.028495,
     "end_time": "2023-02-24T11:49:10.271220",
     "exception": false,
     "start_time": "2023-02-24T11:49:10.242725",
     "status": "completed"
    },
    "tags": []
   },
   "outputs": [
    {
     "data": {
      "text/plain": [
       "0    266\n",
       "1    152\n",
       "Name: Survived, dtype: int64"
      ]
     },
     "execution_count": 58,
     "metadata": {},
     "output_type": "execute_result"
    }
   ],
   "source": [
    "submit['Survived'].value_counts()"
   ]
  },
  {
   "cell_type": "code",
   "execution_count": 59,
   "id": "4eb06171",
   "metadata": {
    "execution": {
     "iopub.execute_input": "2023-02-24T11:49:10.310461Z",
     "iopub.status.busy": "2023-02-24T11:49:10.309700Z",
     "iopub.status.idle": "2023-02-24T11:49:10.314590Z",
     "shell.execute_reply": "2023-02-24T11:49:10.313773Z"
    },
    "papermill": {
     "duration": 0.026479,
     "end_time": "2023-02-24T11:49:10.316602",
     "exception": false,
     "start_time": "2023-02-24T11:49:10.290123",
     "status": "completed"
    },
    "tags": []
   },
   "outputs": [],
   "source": [
    "submit['Survived'] = y_pred"
   ]
  },
  {
   "cell_type": "code",
   "execution_count": 60,
   "id": "f3f4d2a5",
   "metadata": {
    "execution": {
     "iopub.execute_input": "2023-02-24T11:49:10.355477Z",
     "iopub.status.busy": "2023-02-24T11:49:10.355165Z",
     "iopub.status.idle": "2023-02-24T11:49:10.363167Z",
     "shell.execute_reply": "2023-02-24T11:49:10.362223Z"
    },
    "papermill": {
     "duration": 0.029749,
     "end_time": "2023-02-24T11:49:10.365194",
     "exception": false,
     "start_time": "2023-02-24T11:49:10.335445",
     "status": "completed"
    },
    "tags": []
   },
   "outputs": [
    {
     "data": {
      "text/plain": [
       "0    283\n",
       "1    135\n",
       "Name: Survived, dtype: int64"
      ]
     },
     "execution_count": 60,
     "metadata": {},
     "output_type": "execute_result"
    }
   ],
   "source": [
    "submit['Survived'].value_counts()"
   ]
  },
  {
   "cell_type": "code",
   "execution_count": 61,
   "id": "bf9164d6",
   "metadata": {
    "execution": {
     "iopub.execute_input": "2023-02-24T11:49:10.405271Z",
     "iopub.status.busy": "2023-02-24T11:49:10.404618Z",
     "iopub.status.idle": "2023-02-24T11:49:10.411569Z",
     "shell.execute_reply": "2023-02-24T11:49:10.410737Z"
    },
    "papermill": {
     "duration": 0.028574,
     "end_time": "2023-02-24T11:49:10.413474",
     "exception": false,
     "start_time": "2023-02-24T11:49:10.384900",
     "status": "completed"
    },
    "tags": []
   },
   "outputs": [],
   "source": [
    "submit.to_csv('gender_submission.csv', index=False)"
   ]
  },
  {
   "cell_type": "code",
   "execution_count": null,
   "id": "fdc5a1d2",
   "metadata": {
    "papermill": {
     "duration": 0.019096,
     "end_time": "2023-02-24T11:49:10.451509",
     "exception": false,
     "start_time": "2023-02-24T11:49:10.432413",
     "status": "completed"
    },
    "tags": []
   },
   "outputs": [],
   "source": []
  }
 ],
 "metadata": {
  "kernelspec": {
   "display_name": "Python 3",
   "language": "python",
   "name": "python3"
  },
  "language_info": {
   "codemirror_mode": {
    "name": "ipython",
    "version": 3
   },
   "file_extension": ".py",
   "mimetype": "text/x-python",
   "name": "python",
   "nbconvert_exporter": "python",
   "pygments_lexer": "ipython3",
   "version": "3.7.12"
  },
  "papermill": {
   "default_parameters": {},
   "duration": 28.527788,
   "end_time": "2023-02-24T11:49:11.390839",
   "environment_variables": {},
   "exception": null,
   "input_path": "__notebook__.ipynb",
   "output_path": "__notebook__.ipynb",
   "parameters": {},
   "start_time": "2023-02-24T11:48:42.863051",
   "version": "2.3.4"
  }
 },
 "nbformat": 4,
 "nbformat_minor": 5
}
